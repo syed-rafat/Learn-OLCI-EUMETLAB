{
 "cells": [
  {
   "cell_type": "markdown",
   "metadata": {
    "Collapsed": "false"
   },
   "source": [
    "<img src='./frameworks/img/EU-Copernicus-EUM-WEKEO_banner_logo.png' align='right' width='75%'/>"
   ]
  },
  {
   "cell_type": "markdown",
   "metadata": {},
   "source": [
    "Copernicus Marine Training Service <br>\n",
    "**Copyright:** 2022 EUMETSAT <br>\n",
    "**License:** MIT"
   ]
  },
  {
   "cell_type": "markdown",
   "metadata": {},
   "source": [
    "<div class=\"alert alert-block alert-success\">\n",
    "<h1>Learn OLCI</h1></div>\n",
    "<hr>"
   ]
  },
  {
   "cell_type": "markdown",
   "metadata": {
    "Collapsed": "false"
   },
   "source": [
    "<div class=\"alert alert-info\" role=\"alert\">\n",
    "\n",
    "## Index\n",
    "\n",
    "</div>\n",
    "\n",
    "### Learning outcomes\n",
    "\n",
    "The course is designed for:\n",
    "* <font color=\"#138D75\">**introductory users**</font>, who have basic knowledge of Python and are new to using OLCI data\n",
    "* <font color=\"#DC7633\">**advanced users**</font>, who may be looking into more advanced use cases for the data.\n",
    "\n",
    "After completing the basic course, you will be\n",
    "\n",
    "### Outline\n",
    "\n",
    "The **Learn-olci** module consists of a collection of Python-based code designed to demonstrate the capability of the Ocean and Land Colour Instrument (OLCI), carried by the Sentinel-3 satellite, and to help users begin to work with its data. The module will introduce you to:\n",
    "\n",
    "* <font color=\"#DC7633\">**the specifics of the OLCI sensor**</font>\n",
    "* <font color=\"#DC7633\">**the ways in which you can access OLCI data**</font>\n",
    "* <font color=\"#DC7633\">**the parameters that OLCI provides at Level-1b and Level-2**</font>\n",
    "* <font color=\"#DC7633\">**approaches to working with OLCI data in common use cases**</font>\n",
    "\n",
    "If you need more background on how OLCI works and what capabilities it has, you can check out the [OLCI overview](./OLCI_overview.ipynb) notebook and/or the [Sentinel-3 knowledge base](https://eumetsatspace.atlassian.net/wiki/spaces/SEN3/overview).\n",
    "\n",
    "### How to use this course material\n",
    "\n",
    "The code is based around a series of [Jupyter notebooks](https://jupyter.org/). These support high-level interactive learning by allowing us to combine code, text descriptions and data visualisations. If you have not worked with `Jupyter Notebooks` before, please look at the [Introduction to Python and Project Jupyter](./Intro_to_Python_and_Jupyter_WIP.ipynb) module to get a short introduction to their benefits.\n",
    "\n",
    "* Recommend approaching them in turn\n",
    "<hr>"
   ]
  },
  {
   "cell_type": "markdown",
   "metadata": {},
   "source": [
    "<div class=\"alert alert-info\" role=\"alert\">\n",
    "\n",
    "## <a id='TOC_TOP'></a>Contents\n",
    "\n",
    "</div>\n",
    "    \n",
    "The course follows a modular approach and offers the following modules:\n",
    "\n",
    "<h3>OLCI <font color=\"#138D75\"> introductory</font> modules.</h3>\n",
    "\n",
    " These resources will introduce you to the fundamentals of OLCI<br>\n",
    " 1. [Accessing OLCI data](./1_OLCI_introductory/1_1_OLCI_data_access.ipynb)\n",
    " 1. [OLCI file structure](./1_OLCI_introductory/1_2_OLCI_file_structure.ipynb)\n",
    " 1. [OLCI coverage](./1_OLCI_introductory/1_3_OLCI_coverage.ipynb)\n",
    " 1. [OLCI spatial plotting (RGB)](./1_OLCI_introductory/1_4_OLCI_plot_spatial_RGB.ipynb)\n",
    " 1. [OLCI spectral plotting (rad/ref)](./1_OLCI_introductory/1_5_OLCI_plot_spectral_radiances_reflectances.ipynb)\n",
    " 1. [Comparing chlorophyll products](./1_OLCI_introductory/1_6_OLCI_CHL_comparison.ipynb)\n",
    " 1. [The light environment](./1_OLCI_introductory/1_7_OLCI_light_environment.ipynb)\n",
    " 1. [Water component analysis](./1_OLCI_introductory/1_8_OLCI_water_components.ipynb)\n",
    " \n",
    "<h3>OLCI <font color=\"#DC7633\"> advanced</font> modules</h3>\n",
    " \n",
    " These resources build on the fundamentals, covering more advanced uses of OLCI.<br>\n",
    " 1. [Advanced OLCI data access](./2_OLCI_advanced/2_1_OLCI_advanced_data_access.ipynb)\n",
    " 1. [OLCI orbital prediction](./2_OLCI_advanced/2_2_OLCI_point_in_scene_prediction.ipynb)\n",
    " 1. [Performing match-up analyses](./2_OLCI_advanced/2_3_OLCI_matchup_analysis.ipynb)\n",
    " 1. [Advanced OLCI flag use](./2_OLCI_advanced/2_4_OLCI_flags.ipynb)\n",
    " 1. [Atmospheric correction and reflectance comparison](./2_OLCI_advanced/2_5_OLCI_reflectance_comparison.ipynb) *(SNAP required)*"
   ]
  },
  {
   "cell_type": "markdown",
   "metadata": {},
   "source": [
    "<hr>\n",
    "<a href=\"https://gitlab.eumetsat.int/eumetlab/ocean\">View on GitLab</a> | <a href=\"https://training.eumetsat.int/\">EUMETSAT Training</a> | <a href=mailto:ops@eumetsat.int>Contact helpdesk for support </a> | <a href=mailto:Copernicus.training@eumetsat.int>Contact our training team to collaborate on and reuse this material</a></span></p>"
   ]
  }
 ],
 "metadata": {
  "kernelspec": {
   "display_name": "Python 3 (ipykernel)",
   "language": "python",
   "name": "python3"
  },
  "language_info": {
   "codemirror_mode": {
    "name": "ipython",
    "version": 3
   },
   "file_extension": ".py",
   "mimetype": "text/x-python",
   "name": "python",
   "nbconvert_exporter": "python",
   "pygments_lexer": "ipython3",
   "version": "3.9.9"
  }
 },
 "nbformat": 4,
 "nbformat_minor": 4
}
