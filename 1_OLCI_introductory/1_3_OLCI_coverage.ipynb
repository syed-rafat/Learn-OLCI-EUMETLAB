{
 "cells": [
  {
   "cell_type": "markdown",
   "metadata": {},
   "source": [
    "<img src='../frameworks/img/EU-Copernicus-EUM-WEKEO_banner_logo.png' align='right' width='75%'></img>"
   ]
  },
  {
   "cell_type": "markdown",
   "metadata": {},
   "source": [
    "<a href=\"../Index.ipynb\"><< Index</a>\n",
    "<br>\n",
    "<a href=\"./1_2_OLCI_file_structure.ipynb\"><< OLCI file structure</a>&nbsp;&nbsp;&nbsp;&nbsp;&nbsp;<a href=\"./1_4_OLCI_bands_imagery.ipynb\">OLCI bands and imagery >></a>"
   ]
  },
  {
   "cell_type": "markdown",
   "metadata": {},
   "source": [
    "<font color=\"#138D75\">**Copernicus Marine Training Service**</font> <br>\n",
    "**Copyright:** 2022 EUMETSAT <br>\n",
    "**License:** MIT"
   ]
  },
  {
   "cell_type": "markdown",
   "metadata": {},
   "source": [
    "<div class=\"alert alert-block alert-success\">\n",
    "<h3>Learn OLCI: Introductory</h3></div>"
   ]
  },
  {
   "cell_type": "markdown",
   "metadata": {},
   "source": [
    "<div class=\"alert alert-block alert-warning\">\n",
    "    \n",
    "<b>PREREQUISITES </b>\n",
    "    \n",
    "The following modules are prerequisites for this notebook:\n",
    "- **[1_1_OLCI_data_access.ipynb](1_1_OLCI_data_access.ipynb)** (this will download the required OLCI products for this notebook)\n",
    "\n",
    "</div>\n",
    "<hr>"
   ]
  },
  {
   "cell_type": "markdown",
   "metadata": {},
   "source": [
    "# 1.3 Determining OLCI product coverage\n",
    "\n",
    "### Data used\n",
    "\n",
    "| Product Description  | Data Store collection ID|  WEkEO HDA ID | Product Navigator |\n",
    "|:--------------------:|:-----------------------:|:-------------:|:-----------------:|\n",
    "| Sentinel-3 OLCI level-2 full resolution  | EO:EUM:DAT:0407 | EO:EUM:DAT:SENTINEL-3:OL_2_WFR___ | [link](https://navigator.eumetsat.int/product/EO:EUM:DAT:SENTINEL-3:OL_2_WFR___NTC?query=OLCI&filter=satellite__Sentinel-3&filter=instrument__OLCI&filter=processingLevel__Level%202%20Data&s=advanced) \n",
    "| Sentinel-3 OLCI level-2 reduced resolution | EO:EUM:DAT:0408 | WEkEO: EO:EUM:DAT:SENTINEL-3:OL_2_WRR___ | [link](https://navigator.eumetsat.int/product/EO:EUM:DAT:SENTINEL-3:OL_2_WRR___NTC?query=OLCI&filter=satellite__Sentinel-3&filter=instrument__OLCI&filter=processingLevel__Level%202%20Data&s=advanced) \n",
    "\n",
    "### Learning outcomes\n",
    "\n",
    "At the end of this notebook you will know;\n",
    "* About the \"Product Dissemination Units\" that OLCI data is distributed in.\n",
    "* What the OLCI PDU's look like in terms of ground coverage.\n",
    "* What this means for 'revisit time' or how often you can get data for a specific area.\n",
    "* How to extract the polygon which represents data coverage from an OLCI data product manifest file.\n",
    "* How to visualise this information on a map.\n",
    "\n",
    "### Outline\n",
    "\n",
    "    \n",
    "Whilst the Sentinel-3 satellites continuously orbit the planet, data received must be split in to manageable portions for processing and distribution. Data from the Ocean and Land Colour Instrument aboard the Sentinel-3 satellites, is distributed in specific \"product dissemination units\" (PDUs). You can find out detailed information about the different types of PDUs and which ones are used for which Sentinel-3 products in the [EUMETSAT user support knowledge base](https://eumetsatspace.atlassian.net/wiki/spaces/DPF/pages/1615659023/Product+dissemination+units+PDUs). \n",
    "\n",
    "<div class=\"alert alert-info\" role=\"alert\">\n",
    "\n",
    "## <a id='TOC_TOP'></a>Contents\n",
    "\n",
    "</div>\n",
    "    \n",
    " 1. [Investigating OLCI coverage](#section1)\n",
    "\n",
    "<hr>"
   ]
  },
  {
   "cell_type": "code",
   "execution_count": 1,
   "metadata": {},
   "outputs": [],
   "source": [
    "# library imports\n",
    "import cartopy\n",
    "import glob\n",
    "import matplotlib.pyplot as plt\n",
    "import numpy as np\n",
    "import os\n",
    "from shapely.geometry import Polygon\n",
    "import warnings\n",
    "import xml.etree.ElementTree as ET\n",
    "\n",
    "warnings.filterwarnings('ignore')"
   ]
  },
  {
   "cell_type": "markdown",
   "metadata": {},
   "source": [
    "<div class=\"alert alert-info\" role=\"alert\">\n",
    "\n",
    "## <a id='section1'></a>1. Investigating OLCI coverage\n",
    "[Back to top](#TOC_TOP)\n",
    "\n",
    "</div>"
   ]
  },
  {
   "cell_type": "markdown",
   "metadata": {},
   "source": [
    "First let's create a path that points to the location of the data files we're interesed in. We'll look at two different types of OLCI data product, which will show us examples of the two different types of PDUs for OLCI data. "
   ]
  },
  {
   "cell_type": "code",
   "execution_count": 2,
   "metadata": {},
   "outputs": [],
   "source": [
    "# selecting SAFE directories\n",
    "SAFE_directories = [\n",
    "    os.path.join(os.getcwd(), 'products',\n",
    "    'S3A_OL_2_WFR____20210717T101015_20210717T101315_20210718T221347_0179_074_122_1980_MAR_O_NT_003.SEN3'),\n",
    "    os.path.join(os.getcwd(), 'products',\n",
    "    'S3A_OL_2_WRR____20210717T095732_20210717T104152_20210718T152419_2660_074_122______MAR_O_NT_003.SEN3')\n",
    "    ]"
   ]
  },
  {
   "cell_type": "markdown",
   "metadata": {},
   "source": [
    "We don't always need to open the actual data files contained within the Sentinel-SAFE file in order to find out information about the products. Some information is stored in the manifest file - like the information about what area is covered by the particular data files. In the cell below, we'll find the manifest files in the directories of the products we selected above."
   ]
  },
  {
   "cell_type": "code",
   "execution_count": 3,
   "metadata": {},
   "outputs": [],
   "source": [
    "# selecting SAFE manifest\n",
    "SAFE_manifests = []\n",
    "for SAFE_directory in SAFE_directories:\n",
    "    SAFE_manifests.append(glob.glob(os.path.join(SAFE_directory, 'xfd*.xml'))[0])"
   ]
  },
  {
   "cell_type": "markdown",
   "metadata": {},
   "source": [
    "Next, we'll look inside the manifest files and extract the polygons which represent the coverage of the data within the files."
   ]
  },
  {
   "cell_type": "code",
   "execution_count": 4,
   "metadata": {},
   "outputs": [],
   "source": [
    "polygons = []\n",
    "tags = []\n",
    "for SAFE_manifest in SAFE_manifests:\n",
    "    tags.append(SAFE_manifest.split('/')[-2])\n",
    "    tree = ET.parse(SAFE_manifest)\n",
    "    root = tree.getroot()\n",
    "    polygon =  root.findall('.//gml:posList', {'gml':\"http://www.opengis.net/gml\"})\n",
    "    polygons.append((polygon[0].text))"
   ]
  },
  {
   "cell_type": "markdown",
   "metadata": {},
   "source": [
    "Finally, we'll plot the polygons on a world map..."
   ]
  },
  {
   "cell_type": "code",
   "execution_count": 1,
   "metadata": {},
   "outputs": [
    {
     "ename": "NameError",
     "evalue": "name 'plt' is not defined",
     "output_type": "error",
     "traceback": [
      "\u001b[1;31m---------------------------------------------------------------------------\u001b[0m",
      "\u001b[1;31mNameError\u001b[0m                                 Traceback (most recent call last)",
      "Input \u001b[1;32mIn [1]\u001b[0m, in \u001b[0;36m<module>\u001b[1;34m\u001b[0m\n\u001b[1;32m----> 1\u001b[0m fig1 \u001b[38;5;241m=\u001b[39m \u001b[43mplt\u001b[49m\u001b[38;5;241m.\u001b[39mfigure(figsize\u001b[38;5;241m=\u001b[39m(\u001b[38;5;241m10\u001b[39m, \u001b[38;5;241m10\u001b[39m), dpi\u001b[38;5;241m=\u001b[39m\u001b[38;5;241m300\u001b[39m)\n\u001b[0;32m      3\u001b[0m \u001b[38;5;28;01mfor\u001b[39;00m loc, clon, clat \u001b[38;5;129;01min\u001b[39;00m \u001b[38;5;28mzip\u001b[39m([\u001b[38;5;241m1\u001b[39m, \u001b[38;5;241m2\u001b[39m], [\u001b[38;5;241m0.0\u001b[39m, \u001b[38;5;241m180.0\u001b[39m], [\u001b[38;5;241m0.0\u001b[39m, \u001b[38;5;241m75\u001b[39m]):\n\u001b[0;32m      4\u001b[0m     m \u001b[38;5;241m=\u001b[39m plt\u001b[38;5;241m.\u001b[39msubplot(\u001b[38;5;241m1\u001b[39m, \u001b[38;5;241m2\u001b[39m, loc, projection\u001b[38;5;241m=\u001b[39mcartopy\u001b[38;5;241m.\u001b[39mcrs\u001b[38;5;241m.\u001b[39mNearsidePerspective(central_longitude\u001b[38;5;241m=\u001b[39mclon, \n\u001b[0;32m      5\u001b[0m                                                                           central_latitude\u001b[38;5;241m=\u001b[39mclat))\n",
      "\u001b[1;31mNameError\u001b[0m: name 'plt' is not defined"
     ]
    }
   ],
   "source": [
    "fig1 = plt.figure(figsize=(10, 10), dpi=300)\n",
    "\n",
    "for loc, clon, clat in zip([1, 2], [0.0, 180.0], [0.0, 75]):\n",
    "    m = plt.subplot(1, 2, loc, projection=cartopy.crs.NearsidePerspective(central_longitude=clon, \n",
    "                                                                          central_latitude=clat))\n",
    "    m.add_feature(cartopy.feature.LAND, zorder=0, edgecolor='k', facecolor='#5D6D7E')\n",
    "    m.set_global()\n",
    "\n",
    "    gl = m.gridlines(draw_labels = True)\n",
    "\n",
    "    colours = ['#528B8B', '#79CDCD']\n",
    "    zorders = [2, 1]\n",
    "    labels = ['Sentinel-3 OLCI L1-EFR/L2-WFR NRT/NTC', 'Sentinel-3 OLCI L1-ERR/L2-WRR NRT/NTC']\n",
    "\n",
    "    plots = []\n",
    "    reverse = False\n",
    "    for polygon, tag, colour, zorder, SAFE_manifest in zip(polygons, tags, colours, zorders, SAFE_manifests):\n",
    "        coords = np.asarray(polygon.split(' ')).astype('float')\n",
    "        polygon_geom = Polygon(zip((coords[1::2]), coords[0::2]))\n",
    "        px = polygon_geom.exterior\n",
    "        if reverse == True:\n",
    "            px.coords = list(px.coords)[::-1]\n",
    "        x, y = px.xy\n",
    "        p, = plt.fill(x, y, alpha=0.74, fc=colour, ec='k', transform=cartopy.crs.Geodetic(), zorder=zorder)\n",
    "        plots.append(p)\n",
    "\n",
    "plt.legend(plots, labels, loc='lower right', bbox_to_anchor=(0.0, -0.25))\n",
    "plt.savefig('1_3_OLCI_coverage.png', bbox_inches='tight')"
   ]
  },
  {
   "cell_type": "markdown",
   "metadata": {},
   "source": [
    "In the plot above we can see that the OLCI Full Resolution (EFR and WFR) and Reduced Resolution (ERR and WRR) products have different PDUs. The FR products are delivered in frames, whilst the the RR products are delivered as stripes that represent half an orbits worth of data. The PDUs for OLCI data products are the same for each resolution at both levels (1B and 2), and timeliness (Near Real Time (NRT) and Non Time Critical (NTC)).\n"
   ]
  },
  {
   "cell_type": "markdown",
   "metadata": {},
   "source": [
    "### What to try next?\n",
    "\n",
    "Why not try downloading a different OLCI file and seeing how the coverage varies? You could also download multiple files from the same day, layer them together on the same plot, and see how much coverage one, or both Sentinel-3 satellites provide. \n",
    "\n",
    "You could compare a day in summer, to one in winter...what do you notice? Does the coverage change?\n",
    "\n",
    "For more information on OLCI data coverage, see the [Sentinel-3 knowledge base pages](https://eumetsatspace.atlassian.net/wiki/spaces/SEN3/pages/1609367573/OLCI+coverage)."
   ]
  },
  {
   "cell_type": "markdown",
   "metadata": {},
   "source": [
    "<hr>\n",
    "<a href=\"../Index.ipynb\"><< Index</a>\n",
    "<br>\n",
    "<a href=\"./1_2_OLCI_file_structure.ipynb\"><< OLCI file structure</a>&nbsp;&nbsp;&nbsp;&nbsp;&nbsp;<a href=\"./1_4_OLCI_bands_imagery.ipynb\">OLCI bands and imagery >></a>\n",
    "<hr>\n",
    "<a href=\"https://gitlab.eumetsat.int/eumetlab/ocean\">View on GitLab</a> | <a href=\"https://training.eumetsat.int/\">EUMETSAT Training</a> | <a href=mailto:ops@eumetsat.int>Contact helpdesk for support </a> | <a href=mailto:Copernicus.training@eumetsat.int>Contact our training team to collaborate on and reuse this material</a></span></p>"
   ]
  }
 ],
 "metadata": {
  "description": "This Jupyter Notebook discusses the coverage of OLCI level-1b and level-2 products.",
  "image": "../img/thumbs/1_3_OLCI_coverage_thumb.png",
  "kernelspec": {
   "display_name": "Python 3 (ipykernel)",
   "language": "python",
   "name": "python3"
  },
  "language_info": {
   "codemirror_mode": {
    "name": "ipython",
    "version": 3
   },
   "file_extension": ".py",
   "mimetype": "text/x-python",
   "name": "python",
   "nbconvert_exporter": "python",
   "pygments_lexer": "ipython3",
   "version": "3.8.12"
  },
  "tags": {
   "category": "sensor_principles",
   "domain": "ocean",
   "level": [
    "L1",
    "L2"
   ],
   "satellite": "Sentinel-3",
   "sensor": "OLCI",
   "variable": [
    "radiance",
    "reflectance",
    "ocean_colour"
   ]
  },
  "title": "OLCI data access"
 },
 "nbformat": 4,
 "nbformat_minor": 2
}
