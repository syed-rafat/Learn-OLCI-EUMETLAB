{
 "cells": [
  {
   "cell_type": "markdown",
   "metadata": {},
   "source": [
    "<img src='../frameworks/img/EU-Copernicus-EUM-WEKEO_banner_logo.png' align='right' width='75%'></img>"
   ]
  },
  {
   "cell_type": "markdown",
   "metadata": {},
   "source": [
    "<a href=\"../Index.ipynb\"><< Index</a>\n",
    "<br>\n",
    "<a href=\"./1_4_OLCI_bands_imagery.ipynb\"><< OLCI bands and imagery</a>&nbsp;&nbsp;&nbsp;&nbsp;&nbsp;<a href=\"./1_6_OLCI_CHL_comparison.ipynb\">Comparing OLCI chlorophyll products >></a>"
   ]
  },
  {
   "cell_type": "markdown",
   "metadata": {},
   "source": [
    "<font color=\"#138D75\">**Copernicus Marine Training Service**</font> <br>\n",
    "**Copyright:** 2022 EUMETSAT <br>\n",
    "**License:** MIT"
   ]
  },
  {
   "cell_type": "markdown",
   "metadata": {},
   "source": [
    "<div class=\"alert alert-block alert-success\">\n",
    "<h3>Learn OLCI: Introductory</h3></div>"
   ]
  },
  {
   "cell_type": "markdown",
   "metadata": {},
   "source": [
    "<div class=\"alert alert-block alert-warning\">\n",
    "    \n",
    "<b>PREREQUISITES </b>\n",
    "    \n",
    "The following modules are prerequisites for this notebook:\n",
    "- **[1_1_OLCI_data_access.ipynb](1_1_OLCI_data_access.ipynb)** (this will download the required OLCI products for this notebook)\n",
    "\n",
    "</div>\n",
    "<hr>"
   ]
  },
  {
   "cell_type": "markdown",
   "metadata": {},
   "source": [
    "# 1.5 OLCI radiance and reflectance spectra\n",
    "    \n",
    "</div>\n",
    "\n",
    "### Data used\n",
    "\n",
    "| Product Description  | Data Store collection ID|  WEkEO HDA ID | Product Navigator |\n",
    "|:--------------------:|:-----------------------:|:-------------:|:-----------------:|\n",
    "| Sentinel-3 OLCI level-1B Full resolution | EO:EUM:DAT:0409 | EO:EUM:DAT:SENTINEL-3:OL_1_EFR___ | [link](https://navigator.eumetsat.int/product/EO:EUM:DAT:SENTINEL-3:OL_1_EFR___NTC?query=OLCI&filter=satellite__Sentinel-3&filter=instrument__OLCI&filter=processingLevel__Level%201%20Data&s=advanced) |\n",
    "| Sentinel-3 OLCI level-2 full resolution  | EO:EUM:DAT:0407 | EO:EUM:DAT:SENTINEL-3:OL_2_WFR___ | [link](https://navigator.eumetsat.int/product/EO:EUM:DAT:SENTINEL-3:OL_2_WFR___NTC?query=OLCI&filter=satellite__Sentinel-3&filter=instrument__OLCI&filter=processingLevel__Level%202%20Data&s=advanced) |\n",
    "\n",
    "### Learning outcomes\n",
    "\n",
    "At the end of this notebook you will know;\n",
    "* How to extract data from different wavebands in the OLCI products from the associated netcdf files.\n",
    "* How to extract the radiance and reflectance spectra over a specific area. \n",
    "* That level-1 and level-2 data are very different, and why.\n",
    "* That the ocean colour spectra retrieved by OLCI vary depending on the type of water they represent.\n",
    "* How to make interactive plots using the Bokeh library.\n",
    "\n",
    "\n",
    "\n",
    "### Outline\n",
    "\n",
    "<div class=\"alert alert-info\" role=\"alert\">\n",
    "\n",
    "## <a id='TOC_TOP'></a>Contents\n",
    "\n",
    "</div>\n",
    "    \n",
    " 1. [Radiance and reflectance](#section1)\n",
    " 2. [Reading band data from the xml manifest file](#section2)\n",
    " 3. [Reading in the radiance and reflectances](#section3)\n",
    " 4. [Plotting the radiance and reflectances](#section4)\n",
    " 5. [Applying your knowledge](#section5)\n",
    "\n",
    "<hr>"
   ]
  },
  {
   "cell_type": "code",
   "execution_count": 1,
   "metadata": {},
   "outputs": [
    {
     "ename": "ModuleNotFoundError",
     "evalue": "No module named 'bokeh'",
     "output_type": "error",
     "traceback": [
      "\u001b[1;31m---------------------------------------------------------------------------\u001b[0m",
      "\u001b[1;31mModuleNotFoundError\u001b[0m                       Traceback (most recent call last)",
      "Input \u001b[1;32mIn [1]\u001b[0m, in \u001b[0;36m<module>\u001b[1;34m\u001b[0m\n\u001b[1;32m----> 1\u001b[0m \u001b[38;5;28;01mfrom\u001b[39;00m \u001b[38;5;21;01mbokeh\u001b[39;00m\u001b[38;5;21;01m.\u001b[39;00m\u001b[38;5;21;01mio\u001b[39;00m \u001b[38;5;28;01mimport\u001b[39;00m output_notebook, show, export_png\n\u001b[0;32m      2\u001b[0m \u001b[38;5;28;01mfrom\u001b[39;00m \u001b[38;5;21;01mbokeh\u001b[39;00m\u001b[38;5;21;01m.\u001b[39;00m\u001b[38;5;21;01mplotting\u001b[39;00m \u001b[38;5;28;01mimport\u001b[39;00m figure\n\u001b[0;32m      3\u001b[0m \u001b[38;5;28;01mfrom\u001b[39;00m \u001b[38;5;21;01mbokeh\u001b[39;00m\u001b[38;5;21;01m.\u001b[39;00m\u001b[38;5;21;01mmodels\u001b[39;00m \u001b[38;5;28;01mimport\u001b[39;00m HoverTool, Range1d, LinearAxis\n",
      "\u001b[1;31mModuleNotFoundError\u001b[0m: No module named 'bokeh'"
     ]
    }
   ],
   "source": [
    "from bokeh.io import output_notebook, show, export_png\n",
    "from bokeh.plotting import figure\n",
    "from bokeh.models import HoverTool, Range1d, LinearAxis\n",
    "from bokeh.layouts import row\n",
    "import eumartools\n",
    "import glob\n",
    "import inspect\n",
    "import numpy as np\n",
    "import os\n",
    "import warnings\n",
    "import xarray as xr\n",
    "import xml.etree.ElementTree as ET\n",
    "import pandas as pd\n",
    "\n",
    "warnings.filterwarnings('ignore')\n",
    "\n",
    "output_notebook()"
   ]
  },
  {
   "cell_type": "markdown",
   "metadata": {},
   "source": [
    "<div class=\"alert alert-info\" role=\"alert\">\n",
    "\n",
    "## <a id='section1'></a>1. Radiance and reflectance\n",
    "[Back to top](#TOC_TOP)\n",
    "\n",
    "</div>"
   ]
  },
  {
   "cell_type": "markdown",
   "metadata": {},
   "source": [
    "At level-1, OLCI the main data product from the OLCI sensor is radiance which is a measure of the light observed by the sensor at the different wavelengths. At level-2 the main data product is reflectance, which is the relative proportion of light reflected by an object compared to the light it was exposed to (i.e. by the sun in the case of passive radiometry). You can find out all about radiance and reflectance in the [Ocean Optics web book](https://oceanopticsbook.info/view/inherent-and-apparent-optical-properties/apparent-optical-properties), as well as how they are measured by different instruments. "
   ]
  },
  {
   "cell_type": "markdown",
   "metadata": {},
   "source": [
    "<div class=\"alert alert-info\" role=\"alert\">\n",
    "\n",
    "## <a id='section2'></a>2. Reading band data from the xml manifest file\n",
    "[Back to top](#TOC_TOP)\n",
    "\n",
    "</div>"
   ]
  },
  {
   "cell_type": "markdown",
   "metadata": {},
   "source": [
    "As in the previous notebooks in this series, we will start by defining the paths that point to the location of the data files we are interested in."
   ]
  },
  {
   "cell_type": "code",
   "execution_count": null,
   "metadata": {},
   "outputs": [],
   "source": [
    "SAFE_directories = [\n",
    "    os.path.join(os.getcwd(), 'products', \n",
    "    'S3A_OL_1_EFR____20210717T101015_20210717T101315_20210718T145224_0179_074_122_1980_MAR_O_NT_002.SEN3'),\n",
    "    os.path.join(os.getcwd(), 'products',\n",
    "    'S3A_OL_2_WFR____20210717T101015_20210717T101315_20210718T221347_0179_074_122_1980_MAR_O_NT_003.SEN3')\n",
    "    ]"
   ]
  },
  {
   "cell_type": "markdown",
   "metadata": {},
   "source": [
    "Next, we're going to set up a Python dictionary object, in which will place information and data from the wavebands we are interested in. "
   ]
  },
  {
   "cell_type": "code",
   "execution_count": null,
   "metadata": {},
   "outputs": [],
   "source": [
    "# set up data dictionary\n",
    "data = {\n",
    "        'rad':{\n",
    "        'band_names': [],\n",
    "        'band_centres': [],\n",
    "        'band_widths': [],\n",
    "        'means': [],\n",
    "        'uppers': [],\n",
    "        'lowers': []},\n",
    "        \n",
    "        'ref':{\n",
    "        'band_names': [],\n",
    "        'band_centres': [],\n",
    "        'band_widths': [],\n",
    "        'means': [],\n",
    "        'uppers': [],\n",
    "        'lowers': [],\n",
    "        'errs': []}\n",
    "        }"
   ]
  },
  {
   "cell_type": "markdown",
   "metadata": {},
   "source": [
    "In the next cell we will read the manifest file and extract the names of the bands, their centre wavelengths, and their width (in nm)."
   ]
  },
  {
   "cell_type": "code",
   "execution_count": null,
   "metadata": {},
   "outputs": [],
   "source": [
    "# Read XML file; there is now a function for this print(inspect.getsource(eumartools.read_manifest))\n",
    "for SAFE_directory in SAFE_directories:\n",
    "\n",
    "    if \"_OL_1_\" in SAFE_directory:\n",
    "        tag = \"rad\"\n",
    "    else:\n",
    "        tag = \"ref\"\n",
    "        \n",
    "    tree = ET.parse(os.path.join(SAFE_directory,'xfdumanifest.xml'))\n",
    "    root = tree.getroot()\n",
    "    match = {\"sentinel3\":\"http://www.esa.int/safe/sentinel/sentinel-3/1.0\"}\n",
    "    data[tag][\"band_names\"] = [item.attrib[\"name\"] for item in root.findall('.//sentinel3:band', match)]\n",
    "    data[tag][\"band_centres\"] = [float(item.text) for item in root.findall('.//sentinel3:centralWavelength', match)]\n",
    "    data[tag][\"band_widths\"] = [float(item.text) for item in root.findall('.//sentinel3:bandwidth', match)]"
   ]
  },
  {
   "cell_type": "markdown",
   "metadata": {},
   "source": [
    "<div class=\"alert alert-info\" role=\"alert\">\n",
    "\n",
    "## <a id='section3'></a>3. Reading in the radiance and reflectance data\n",
    "[Back to top](#TOC_TOP)\n",
    "\n",
    "</div>"
   ]
  },
  {
   "cell_type": "markdown",
   "metadata": {},
   "source": [
    "To understand how radiance and reflectance vary across different water types, we want to extract a spectra associated with a limited number of pixels. So we'll set an area of interest to average over. We'll also add in a grid scaling factor, this is only to reduce the resolution for the map plot we will make to accompany the spectra, so we can see where in the image we are looking at."
   ]
  },
  {
   "cell_type": "code",
   "execution_count": null,
   "metadata": {},
   "outputs": [],
   "source": [
    "# makes area average\n",
    "lons = [-1.0, 0.0, 0.0, -1.0, -1.0]\n",
    "lats = [55.5, 55.5, 56.5, 56.5, 55.5]\n",
    "\n",
    "# for minimap plotting only\n",
    "grid_reduce = 5"
   ]
  },
  {
   "cell_type": "markdown",
   "metadata": {},
   "source": [
    "To extract a region of interest, and to plot on a map, we need the latitude and longitude information in the data product. We extract that from geo_coordinates netcdf file."
   ]
  },
  {
   "cell_type": "code",
   "execution_count": null,
   "metadata": {},
   "outputs": [],
   "source": [
    "geo_file = os.path.join(SAFE_directories[0],'geo_coordinates.nc')\n",
    "geo_vars = xr.open_dataset(geo_file)\n",
    "lon = geo_vars.longitude.data[::grid_reduce, ::grid_reduce]\n",
    "lat = geo_vars.latitude.data[::grid_reduce, ::grid_reduce]\n",
    "geo_vars.close()"
   ]
  },
  {
   "cell_type": "markdown",
   "metadata": {},
   "source": [
    "To extract the area of interest, we will use a function from the eumartools library - you can look at this in more detail by copying \"print(inspect.getsource(eumartools.subset_image))\" into a code cell and running it. This will create a mask we can use on the data to extrat the part we want."
   ]
  },
  {
   "cell_type": "code",
   "execution_count": null,
   "metadata": {},
   "outputs": [],
   "source": [
    "# coords: print(inspect.getsource(eumartools.subset_image))\n",
    "ex, ey, mask = eumartools.subset_image(lon, lat, lons, lats)\n",
    "mask = mask.T"
   ]
  },
  {
   "cell_type": "markdown",
   "metadata": {},
   "source": [
    "In the next cell we will read all the data we need from the various netcdf files corresponding to the radiances (for the level-1B product) and the reflectances (for the level-2 product), as well as the associated error estimates. We'll also do a little bit of maths to work out the mean, and upper and lower limits of the radiances and reflectances within our region of interest."
   ]
  },
  {
   "cell_type": "code",
   "execution_count": null,
   "metadata": {
    "scrolled": false
   },
   "outputs": [],
   "source": [
    "RGB_dict = {}\n",
    "# read everything we need from netcdf\n",
    "for SAFE_directory in SAFE_directories:\n",
    "\n",
    "    if \"_OL_1_\" in SAFE_directory:\n",
    "        tag = \"rad\"\n",
    "    else:\n",
    "        tag = \"ref\"\n",
    "        \n",
    "    # open all the files at once\n",
    "    band_vars = xr.open_mfdataset(glob.glob(os.path.join(SAFE_directory,'Oa*.nc')))\n",
    "    for band_var in band_vars:\n",
    "        print(f\"Reading:  {band_var}\")\n",
    "        var = band_vars[band_var].data[::grid_reduce, ::grid_reduce]*mask\n",
    "        if \"_err\" in band_var:\n",
    "            data[tag][\"errs\"].append(np.array(np.nanmean(var)))\n",
    "        else:\n",
    "            data[tag][\"means\"].append(np.array(np.nanmean(var)))\n",
    "            data[tag][\"uppers\"].append(np.array(np.nanmean(var) + np.nanstd(var)))\n",
    "            data[tag][\"lowers\"].append(np.array(np.nanmean(var) - np.nanstd(var)))\n",
    "            if \"Oa08_radiance\" in band_var or \"Oa06_radiance\" in band_var or \"Oa02_radiance\" in band_var:\n",
    "                    # this is just to build our quick minimap\n",
    "                    RGB_dict[band_var] = band_vars[band_var].data[::grid_reduce, ::grid_reduce]\n",
    "\n",
    "    band_vars.close()"
   ]
  },
  {
   "cell_type": "markdown",
   "metadata": {},
   "source": [
    "Now we will place all this data in to a dataframe from the Pandas library - this makes the data easier to work with."
   ]
  },
  {
   "cell_type": "code",
   "execution_count": null,
   "metadata": {},
   "outputs": [],
   "source": [
    "# put everything in Pandas dataframes for convenience\n",
    "data[\"rad\"][\"low_band\"]  = [a-b for a,b in zip(data[\"rad\"][\"band_centres\"], data[\"rad\"][\"band_widths\"])]\n",
    "data[\"rad\"][\"high_band\"] = [a+b for a,b in zip(data[\"rad\"][\"band_centres\"], data[\"rad\"][\"band_widths\"])]\n",
    "rad_df = pd.DataFrame(data[\"rad\"])\n",
    "\n",
    "data[\"ref\"][\"low_band\"]  = [a-b for a,b in zip(data[\"ref\"][\"band_centres\"], data[\"ref\"][\"band_widths\"])]\n",
    "data[\"ref\"][\"high_band\"] = [a+b for a,b in zip(data[\"ref\"][\"band_centres\"], data[\"ref\"][\"band_widths\"])]\n",
    "data[\"ref\"][\"low_errs\"]  = [a-b for a,b in zip(data[\"ref\"][\"means\"], data[\"ref\"][\"errs\"])]\n",
    "data[\"ref\"][\"high_errs\"] = [a+b for a,b in zip(data[\"ref\"][\"means\"], data[\"ref\"][\"errs\"])]\n",
    "ref_df = pd.DataFrame(data[\"ref\"])"
   ]
  },
  {
   "cell_type": "markdown",
   "metadata": {},
   "source": [
    "<div class=\"alert alert-info\" role=\"alert\">\n",
    "\n",
    "## <a id='section4'></a>4. Plotting the radiance and reflectance spectra\n",
    "[Back to top](#TOC_TOP)\n",
    "\n",
    "</div>"
   ]
  },
  {
   "cell_type": "markdown",
   "metadata": {},
   "source": [
    "We'll use one of the RGB recipes we looked at in the [OLCI bands and imagery notebook](./1_4_OLCI_bands_imagery.ipynb) to create an RGB image to help use understand the spectra we will plot."
   ]
  },
  {
   "cell_type": "code",
   "execution_count": null,
   "metadata": {},
   "outputs": [],
   "source": [
    "# build minimap\n",
    "rgb = np.dstack(((np.log10(RGB_dict[\"Oa08_radiance\"] * 0.01) + 1.6516951369518393) / 1.9887713527138795,\n",
    "                 (np.log10(RGB_dict[\"Oa06_radiance\"] * 0.01) + 1.6516951369518393) / 1.9887713527138795,\n",
    "                 (np.log10(RGB_dict[\"Oa02_radiance\"] * 0.01) + 1.6516951369518393) / 1.9887713527138795))\n",
    "                     \n",
    "rgb = eumartools.normalise_image(rgb, unhitch='True')\n",
    "rgb = eumartools.truncate_image(rgb)\n",
    "rgb = eumartools.histogram_image(rgb, nbins=512)\n",
    "\n",
    "# make image array\n",
    "img = np.empty((np.shape(rgb)[0], np.shape(rgb)[1]), dtype=np.uint32)\n",
    "view = img.view(dtype=np.uint8).reshape((np.shape(rgb)[0], np.shape(rgb)[1], 4))\n",
    "for ii in range(np.shape(rgb)[-1]):\n",
    "    view[:, :, ii] = rgb[:,:,ii]*255\n",
    "# add alpha\n",
    "view[:, :, 3] = 255"
   ]
  },
  {
   "cell_type": "markdown",
   "metadata": {},
   "source": [
    "Now, let's plot our spectra..."
   ]
  },
  {
   "cell_type": "code",
   "execution_count": null,
   "metadata": {},
   "outputs": [],
   "source": [
    "# create a new plot\n",
    "hover = HoverTool(tooltips=[(\"(wavelength, rad/ref)\", \"($x, $y)\")])\n",
    "\n",
    "# spectra\n",
    "p = figure(plot_width=750, plot_height=600,\n",
    "           title=\"Co-located OLCI radiances & reflectances over subset region\",\n",
    "           y_range=(0, max(rad_df[\"uppers\"])*1.1),\n",
    "           tools=[hover, 'pan', 'box_zoom', 'save', 'reset'],\n",
    "           toolbar_location=\"below\")\n",
    "\n",
    "p.title.align = 'center'\n",
    "p.title.text_font_size = '14pt'\n",
    "p.xaxis.axis_label = r\"$$ \\text{Wavelength } [nm] $$\"\n",
    "p.xaxis.axis_label_text_font_size = \"14pt\"\n",
    "p.yaxis.axis_label = r\"$$\\color{navy} \\text{TOA radiance } [mW m^{-2} sr^{-1} nm^{-1}] $$\"\n",
    "p.add_layout(LinearAxis(y_range_name=\"ref\", axis_label=r\"$$\\color{firebrick} \\text{Reflectance } [sr^{-1}] $$\"),\n",
    "             'right')\n",
    "p.extra_y_ranges = {\"ref\": Range1d(start=0, end=max(ref_df[\"uppers\"])*1.1)}\n",
    "\n",
    "for axis, sr, c, nm in zip([\"default\", \"ref\"], [rad_df, ref_df], [\"navy\", \"firebrick\"], [\"radiance\", \"reflectance\"]):\n",
    "    p.varea(source=sr, x=\"band_centres\", y1=\"lowers\", y2=\"uppers\", alpha=0.5, color=c, y_range_name=axis)\n",
    "    p.line(source=sr, x=\"band_centres\", y=\"means\", line_width=2, color=c, y_range_name=axis, legend_label=nm)\n",
    "    p.circle(source=sr, x=\"band_centres\", y=\"means\", line_color=\"black\", fill_color=c, size=4, y_range_name=axis)\n",
    "    p.segment(source=sr, x0=\"low_band\", y0=\"means\", x1=\"high_band\", y1=\"means\", line_color=\"black\", y_range_name=axis)\n",
    "    p.yaxis.axis_label_text_color = c\n",
    "    p.yaxis.axis_label_text_font_size = \"14pt\"\n",
    "    if axis == \"ref\":\n",
    "        p.segment(source=sr, x0=\"band_centres\", y0=\"low_errs\", x1=\"band_centres\", y1=\"high_errs\", line_color=\"black\",\n",
    "                  y_range_name=axis)\n",
    "        \n",
    "p.legend.location = \"top_right\"\n",
    "p.legend.title = 'Spectra'\n",
    "p.legend.title_text_font_style = \"bold\"\n",
    "p.legend.title_text_font_size = \"14pt\"\n",
    "\n",
    "# minimap\n",
    "m = figure(plot_width=200, plot_height=200, toolbar_location=\"below\")\n",
    "m.image_rgba(image=[np.flipud(img)], x=0, y=0, dw=np.shape(rgb)[0], dh=np.shape(rgb)[1])\n",
    "m.line(x=ex, y=[np.shape(img)[1] - i for i in ey], color=\"firebrick\")\n",
    "m.axis.visible = False ; m.xgrid.visible = False ; m.ygrid.visible = False\n",
    "\n",
    "show(row(p, m))"
   ]
  },
  {
   "cell_type": "markdown",
   "metadata": {},
   "source": [
    "Although not in directly comparable units, the radiance from OLCI, which represents the signal recieved at the top of atmosphere, is a much bigger signal than the reflectance, which has had the effects of the atmosphere removed. In fact the ocean related signal typically represents less than 10% of the total signal recieved by the satellite at the top of the atmosphere (in the visiable wavelengths). Thus, correcting for the effects of the atmosphere is a very important part of ocean colour processing.\n",
    "\n",
    "In the radiance spectra you can see that most of the light is in the blue part of the spectrum, and RGB images made with level-1B radiance instead of reflectance are typically much more blue as a result. Another feature that is immediately noticeable is the oxygen absorption around 760 nm. \n",
    "\n",
    "Comparatively, the reflectance spectra shows more signal in the green. As well as some additional bumps and wiggles after 600 nm that can provide us with more information about what is in the ocean waters we are looking at. "
   ]
  },
  {
   "cell_type": "markdown",
   "metadata": {},
   "source": [
    "<div class=\"alert alert-danger\" role=\"alert\">\n",
    "\n",
    "## <a id='section5'></a>5. Applying your knowledge\n",
    "[Back to top](#TOC_TOP)\n",
    "\n",
    "</div>"
   ]
  },
  {
   "cell_type": "markdown",
   "metadata": {},
   "source": [
    "### What to try next?\n",
    "\n",
    "* Can you make spectral plots for turbid waters?\n",
    "* Can you make spectral plots for other plankton blooms?\n",
    "* How do you think we can improve the quality of our radiance/reflectance spectra over water?"
   ]
  },
  {
   "cell_type": "markdown",
   "metadata": {},
   "source": [
    "<hr>\n",
    "<a href=\"../Index.ipynb\"><< Index</a>\n",
    "<br>\n",
    "<a href=\"./1_4_OLCI_bands_imagery.ipynb\"><< OLCI bands and imagery</a>&nbsp;&nbsp;&nbsp;&nbsp;&nbsp;<a href=\"./1_6_OLCI_CHL_comparison.ipynb\">Comparing OLCI chlorophyll products >></a>\n",
    "<hr>\n",
    "<a href=\"https://gitlab.eumetsat.int/eumetlab/ocean\">View on GitLab</a> | <a href=\"https://training.eumetsat.int/\">EUMETSAT Training</a> | <a href=mailto:ops@eumetsat.int>Contact helpdesk for support </a> | <a href=mailto:Copernicus.training@eumetsat.int>Contact our training team to collaborate on and reuse this material</a></span></p>"
   ]
  }
 ],
 "metadata": {
  "description": "This Jupyter Notebook discusses OLCI radiance and reflectance spectra and level-1b and level-2, respectively.",
  "image": "../img/thumbs/1_5_OLCI_radiance_reflectance_spectra_thumb.png",
  "kernelspec": {
   "display_name": "Python 3 (ipykernel)",
   "language": "python",
   "name": "python3"
  },
  "language_info": {
   "codemirror_mode": {
    "name": "ipython",
    "version": 3
   },
   "file_extension": ".py",
   "mimetype": "text/x-python",
   "name": "python",
   "nbconvert_exporter": "python",
   "pygments_lexer": "ipython3",
   "version": "3.8.12"
  },
  "tags": {
   "category": "sensor_principles",
   "domain": "ocean",
   "level": [
    "L1",
    "L2"
   ],
   "satellite": "Sentinel-3",
   "sensor": "OLCI",
   "variable": [
    "radiance",
    "reflectance"
   ]
  },
  "title": "OLCI radiance and reflectance spectra"
 },
 "nbformat": 4,
 "nbformat_minor": 2
}
