{
 "cells": [
  {
   "cell_type": "markdown",
   "metadata": {},
   "source": [
    "<img src='../frameworks/img/EU-Copernicus-EUM-WEKEO_banner_logo.png' align='right' width='75%'></img>"
   ]
  },
  {
   "cell_type": "markdown",
   "metadata": {},
   "source": [
    "<a href=\"../Index.ipynb\"><< Index</a>\n",
    "<br>\n",
    "<a href=\"./1_1_OLCI_data_access.ipynb\"><< Accessing OLCI data</a>&nbsp;&nbsp;&nbsp;&nbsp;&nbsp;<a href=\"./1_3_OLCI_coverage.ipynb\">Determining OLCI product coverage >></a>"
   ]
  },
  {
   "cell_type": "markdown",
   "metadata": {},
   "source": [
    "<font color=\"#138D75\">**Copernicus Marine Training Service**</font> <br>\n",
    "**Copyright:** 2022 EUMETSAT <br>\n",
    "**License:** MIT"
   ]
  },
  {
   "cell_type": "markdown",
   "metadata": {},
   "source": [
    "<html>\n",
    "  <div style=\"width:100%\">\n",
    "    <div style=\"float:left\"><a href=\"https://trainhub.eumetsat.int/ocean/sensors/1_2_OLCI_file_structure.ipynb\"><img src=\"https://img.shields.io/badge/Launch-TrainHub-Blue.svg\" alt=\"Open in TrainHub\"></a></div>\n",
    "    <div style=\"float:left\"><p>&emsp;</p></div>\n",
    "    <div style=\"float:left\"><a href=\"https://mybinder.org/v2/gl/eumetlab%2Focean%2Fsensors%2Flearn-olci/main?labpath=1_OLCI_introductory/1_2_OLCI_file_structure.ipynb\"><img src=\"https://mybinder.org/badge_logo.svg\" alt=\"Open in Binder\"></a></div>\n",
    "    <div style=\"float:left\"><p>&emsp;</p></div>\n",
    "    <div style=\"float:left\"><a href=\"https://colab.research.google.com/github/eumetlab/ocean/sensors/learn-olci/blob/main/1_OLCI_introductory/1_2_OLCI_file_structure.ipynb\"><img src=\"https://colab.research.google.com/assets/colab-badge.svg\" alt=\"Open In Colab\" /></a></div>\n",
    "    <div style=\"float:left\"><p>&emsp;</p></div>\n",
    "    <div style=\"float:left\"><a href=\"https://studiolab.sagemaker.aws/import/github/eumetlab/ocean/sensors/learn-olci/blob/main/1_OLCI_introductory/1_2_OLCI_file_structure.ipynb\"><img src=\"https://studiolab.sagemaker.aws/studiolab.svg\" alt=\"Open In Studio Lab\"/></a></div>\n",
    "    <div style=\"float:left\"><p>&emsp;</p></div>\n",
    "    <div style=\"float:left\"><a href=\"https://pccompute.westeurope.cloudapp.azure.com/compute/hub/user-redirect/git-pull?repo=https://github.com/eumetlab/ocean/sensors/learn-olci&urlpath=1_OLCI_introductory/1_2_OLCI_file_structure.ipynb&branch=main\"><img src=\"https://img.shields.io/badge/Open-Planetary%20Computer-black?style=flat&logo=microsoft\" alt=\"Open in Planetary Computer\"/></a></div>\n",
    "  </div>\n",
    "</html>"
   ]
  },
  {
   "cell_type": "markdown",
   "metadata": {},
   "source": [
    "<div class=\"alert alert-block alert-success\">\n",
    "<h3>Learn OLCI: Introductory</h3></div>"
   ]
  },
  {
   "cell_type": "markdown",
   "metadata": {},
   "source": [
    "<div class=\"alert alert-block alert-warning\">\n",
    "    \n",
    "<b>PREREQUISITES </b>\n",
    "    \n",
    "The following modules are prerequisites for this notebook:\n",
    "- **[1_1_OLCI_data_access.ipynb](1_1_OLCI_data_access.ipynb)** (this will download the required OLCI products for this notebook)\n",
    "\n",
    "</div>\n",
    "<hr>"
   ]
  },
  {
   "cell_type": "markdown",
   "metadata": {},
   "source": [
    "# 1.2 Understanding OLCI product structure\n",
    "\n",
    "### Data used\n",
    "\n",
    "| Product Description  | Data Store collection ID|  WEkEO HDA ID | Product Navigator |\n",
    "|:--------------------:|:-----------------------:|:-------------:|:-----------------:|\n",
    "| Sentinel-3 OLCI level-1B Full resolution | EO:EUM:DAT:0409 | EO:EUM:DAT:SENTINEL-3:OL_1_EFR___ | [link](https://navigator.eumetsat.int/product/EO:EUM:DAT:SENTINEL-3:OL_1_EFR___NTC?query=OLCI&filter=satellite__Sentinel-3&filter=instrument__OLCI&filter=processingLevel__Level%201%20Data&s=advanced) |\n",
    "\n",
    "### Learning outcomes\n",
    "\n",
    "At the end of this notebook you will know;\n",
    "* What the SAFE format is\n",
    "* What components are inside a SAFE format file from OLCI\n",
    "* What variables are in present in each component for OLCI data files (level-1B and level-2)\n",
    "\n",
    "### Outline\n",
    "\n",
    "Data from all the Sentinel satellites operated under the European Commissions Copernicus Programme are delievered in \"**SAFE format**\". The Sentinel-SAFE format is a specific variation of the Standard Archive Format for Europe (SAFE) format specification designed for the Sentinel satellite products.  It is based on the XML Formatted Data Units (XFDU) standard under development by the Consultative Committee for Space Data Systems (CCSDS). Sentinel-SAFE is a profile of XFDU, and it restricts the XFDU specifications for specific utilisation in the Earth Observation domain, providing semantics in the same domain to improve interoperability between ground segment facilities.\n",
    "\n",
    "\n",
    "Each product package includes:\n",
    "\n",
    "* a manifest file containing a metadata section and a data object section (an xml file).\n",
    "\n",
    "* measurement data files (NetCDF-4 format)\n",
    "\n",
    "* annotation data files, if defined (NetCDF-4 format)\n",
    "\n",
    "The product package can exist as a directory in a filesystem, zipped folder or tarball.\n",
    "\n",
    "The naming of the Sentinel-SAFE files follows a specific convention that you can learn about [here](https://eumetsatspace.atlassian.net/wiki/spaces/DPF/pages/edit-v2/1597702263?). \n",
    "\n",
    "<div class=\"alert alert-info\" role=\"alert\">\n",
    "\n",
    "## <a id='TOC_TOP'></a>Contents\n",
    "\n",
    "</div>\n",
    "    \n",
    " 1. [Querying OLCI file structure (Level-1B)](#section1)\n",
    " 2. [Querying OLCI file structure (Level-2)](#section2)\n",
    " 3. [What are the differences between the two OLCI products?](#section3)\n",
    "\n",
    "<hr>"
   ]
  },
  {
   "cell_type": "code",
   "execution_count": null,
   "metadata": {},
   "outputs": [],
   "source": [
    "# library imports\n",
    "import glob\n",
    "import inspect\n",
    "from IPython.display import display, Markdown\n",
    "import os\n",
    "import xarray as xr\n",
    "import xml.etree.ElementTree as ET\n",
    "import warnings\n",
    "\n",
    "warnings.filterwarnings('ignore')"
   ]
  },
  {
   "cell_type": "markdown",
   "metadata": {},
   "source": [
    "<div class=\"alert alert-info\" role=\"alert\">\n",
    "\n",
    "## <a id='section1'></a>1. Querying OLCI file structure (Level-1B)\n",
    "[Back to top](#TOC_TOP)\n",
    "\n",
    "</div>"
   ]
  },
  {
   "cell_type": "markdown",
   "metadata": {},
   "source": [
    "First we will create a variable which holds the path for the file we are interested in, in this case the level-1B OLCI file that we downloaded in [1_1_OLCI_data_access.ipynb](1_1_OLCI_data_access.ipynb)."
   ]
  },
  {
   "cell_type": "code",
   "execution_count": null,
   "metadata": {},
   "outputs": [],
   "source": [
    "# selecting SAFE directory\n",
    "SAFE_directory = os.path.join(os.getcwd(), 'products', \n",
    "    'S3A_OL_1_EFR____20210717T101015_20210717T101315_20210718T145224_0179_074_122_1980_MAR_O_NT_002.SEN3')"
   ]
  },
  {
   "cell_type": "markdown",
   "metadata": {},
   "source": [
    "Next, we'll create another variable that takes this path, and finds and adds on the names of the manifest file within the SAFE folder.  "
   ]
  },
  {
   "cell_type": "code",
   "execution_count": null,
   "metadata": {},
   "outputs": [],
   "source": [
    "# selecting SAFE manifest\n",
    "SAFE_manifest = glob.glob(os.path.join(SAFE_directory, 'xfd*.xml'))[0]\n",
    "display(Markdown('**Manifest file:** {}'.format(os.path.basename(SAFE_manifest))))"
   ]
  },
  {
   "cell_type": "markdown",
   "metadata": {},
   "source": [
    "Then, we'll read the manifest file in to a Python object format called a dictionary. This will make it easier for us to interact with the product in the next step."
   ]
  },
  {
   "cell_type": "code",
   "execution_count": null,
   "metadata": {
    "scrolled": true
   },
   "outputs": [],
   "source": [
    "# Reading SAFE manifest and outputting/collecting component names\n",
    "tree = ET.parse(SAFE_manifest)\n",
    "root = tree.getroot()\n",
    "items = root.find('dataObjectSection')\n",
    "SAFE_components = []\n",
    "for item in items:\n",
    "    display(Markdown(\"**File name:** {}\".format(item[0][0].get('href'))))\n",
    "    display(Markdown(\"*File info: {}*\".format(item[0][0].get('textInfo'))))\n",
    "    SAFE_components.append(os.path.join(SAFE_directory, item[0][0].get('href')))"
   ]
  },
  {
   "cell_type": "markdown",
   "metadata": {},
   "source": [
    "The next section of code will display each of the components within the product. Scrolling through you can see the main groups of variables, including some you may already know or be interested in working with."
   ]
  },
  {
   "cell_type": "code",
   "execution_count": null,
   "metadata": {
    "scrolled": true
   },
   "outputs": [],
   "source": [
    "# Display component structure and variables\n",
    "for SAFE_component in sorted(SAFE_components):\n",
    "    ds = xr.open_dataset(SAFE_component)\n",
    "    display(Markdown('**Filename:** {}'.format(os.path.basename(SAFE_component))))\n",
    "    display(ds)\n",
    "    ds.close()"
   ]
  },
  {
   "cell_type": "markdown",
   "metadata": {},
   "source": [
    "<div class=\"alert alert-info\" role=\"alert\">\n",
    "\n",
    "## <a id='section2'></a>2. Querying OLCI file structure (Level-2)\n",
    "[Back to top](#TOC_TOP)\n",
    "\n",
    "</div>"
   ]
  },
  {
   "cell_type": "markdown",
   "metadata": {},
   "source": [
    "Now let's look at the level-2 OLCI product that we downloaded in [1_1_OLCI_data_access.ipynb](1_1_OLCI_data_access.ipynb)."
   ]
  },
  {
   "cell_type": "code",
   "execution_count": null,
   "metadata": {},
   "outputs": [],
   "source": [
    "# selecting SAFE directory\n",
    "SAFE_directory = os.path.join(os.getcwd(), 'products', \n",
    "    'S3A_OL_2_WFR____20210717T101015_20210717T101315_20210718T221347_0179_074_122_1980_MAR_O_NT_003.SEN3')"
   ]
  },
  {
   "cell_type": "markdown",
   "metadata": {},
   "source": [
    "Again, we'll create another variable that takes this path, and finds and adds on the names of the manifest file within the SAFE folder.  "
   ]
  },
  {
   "cell_type": "code",
   "execution_count": null,
   "metadata": {},
   "outputs": [],
   "source": [
    "# selecting SAFE manifest\n",
    "SAFE_manifest = glob.glob(os.path.join(SAFE_directory, 'xfd*.xml'))[0]\n",
    "display(Markdown('**Manifest file:** {}'.format(os.path.basename(SAFE_manifest))))"
   ]
  },
  {
   "cell_type": "markdown",
   "metadata": {},
   "source": [
    "Then, we'll read the manifest file for this level-2 data product in to another dictionary. "
   ]
  },
  {
   "cell_type": "code",
   "execution_count": null,
   "metadata": {
    "scrolled": true
   },
   "outputs": [],
   "source": [
    "# Reading SAFE manifest and outputting/collecting component names\n",
    "tree = ET.parse(SAFE_manifest)\n",
    "root = tree.getroot()\n",
    "items = root.find('dataObjectSection')\n",
    "SAFE_components = []\n",
    "for item in items:\n",
    "    display(Markdown(\"**File name:** {}\".format(item[0][0].get('href'))))\n",
    "    display(Markdown(\"*File info: {}*\".format(item[0][0].get('textInfo'))))\n",
    "    SAFE_components.append(os.path.join(SAFE_directory, item[0][0].get('href')))"
   ]
  },
  {
   "cell_type": "markdown",
   "metadata": {},
   "source": [
    "Finally, let's display the components of the product..."
   ]
  },
  {
   "cell_type": "code",
   "execution_count": null,
   "metadata": {
    "scrolled": true
   },
   "outputs": [],
   "source": [
    "# Display component structure and variables\n",
    "for SAFE_component in sorted(SAFE_components):\n",
    "    ds = xr.open_dataset(SAFE_component)\n",
    "    display(Markdown('**Filename:** {}'.format(os.path.basename(SAFE_component))))\n",
    "    display(ds)\n",
    "    ds.close()"
   ]
  },
  {
   "cell_type": "markdown",
   "metadata": {},
   "source": [
    "<div class=\"alert alert-info\" role=\"alert\">\n",
    "\n",
    "## <a id='section3'></a>3. What are the differences between the two files?\n",
    "[Back to top](#TOC_TOP)\n",
    "\n",
    "</div>"
   ]
  },
  {
   "cell_type": "code",
   "execution_count": null,
   "metadata": {},
   "outputs": [],
   "source": [
    "ADD EXERCISE BLOCK"
   ]
  },
  {
   "cell_type": "markdown",
   "metadata": {},
   "source": [
    "<hr>\n",
    "<a href=\"../Index.ipynb\"><< Index</a>\n",
    "<br>\n",
    "<a href=\"./1_1_OLCI_data_access.ipynb\"><< Accessing OLCI data</a>&nbsp;&nbsp;&nbsp;&nbsp;&nbsp;<a href=\"./1_3_OLCI_coverage.ipynb\">Determining OLCI product coverage >></a>"
   ]
  },
  {
   "cell_type": "markdown",
   "metadata": {},
   "source": [
    "<hr>\n",
    "<a href=\"https://gitlab.eumetsat.int/eumetlab/ocean\">View on GitLab</a> | <a href=\"https://training.eumetsat.int/\">EUMETSAT Training</a> | <a href=mailto:ops@eumetsat.int>Contact helpdesk for support </a> | <a href=mailto:Copernicus.training@eumetsat.int>Contact our training team to collaborate on and reuse this material</a></span></p>"
   ]
  },
  {
   "cell_type": "code",
   "execution_count": null,
   "metadata": {},
   "outputs": [],
   "source": []
  }
 ],
 "metadata": {
  "description": "This notebook gives a preliminary overview of the OLCI sensor, linking to further resources and data access routes.",
  "image": "./img/1_OLCI_overview.png",
  "kernelspec": {
   "display_name": "Python 3",
   "language": "python",
   "name": "python3"
  },
  "language_info": {
   "codemirror_mode": {
    "name": "ipython",
    "version": 3
   },
   "file_extension": ".py",
   "mimetype": "text/x-python",
   "name": "python",
   "nbconvert_exporter": "python",
   "pygments_lexer": "ipython3",
   "version": "3.8.5"
  },
  "tags": {
   "category": "sensors",
   "domain": "ocean",
   "level": "L1/L2",
   "satellite": "Sentinel-3",
   "sensor": "OLCI"
  },
  "title": "The Ocean and Land Colour Instrument - a marine overview"
 },
 "nbformat": 4,
 "nbformat_minor": 2
}
