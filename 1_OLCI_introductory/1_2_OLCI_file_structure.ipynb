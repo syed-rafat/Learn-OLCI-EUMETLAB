{
 "cells": [
  {
   "cell_type": "markdown",
   "metadata": {},
   "source": [
    "<img src='../img/EU-Copernicus-EUM_banner_logo.png' align='right' width='50%'></img>"
   ]
  },
  {
   "cell_type": "markdown",
   "metadata": {},
   "source": [
    "<a href=\"../Index.ipynb\"><< Index</a>\n",
    "<br>\n",
    "<a href=\"./1_1_OLCI_data_access.ipynb\"><< OLCI data access</a>&nbsp;&nbsp;&nbsp;&nbsp;&nbsp;<a href=\"./1_3_OLCI_coverage.ipynb\">OLCI coverage >></a>"
   ]
  },
  {
   "cell_type": "markdown",
   "metadata": {},
   "source": [
    "Copernicus Marine Training Service <br>\n",
    "**Copyright:** 2022 EUMETSAT <br>\n",
    "**License:** MIT"
   ]
  },
  {
   "cell_type": "markdown",
   "metadata": {},
   "source": [
    "<div class=\"alert alert-block alert-info\">\n",
    "<h1>Learn OLCI: Introductory</h1></div>"
   ]
  },
  {
   "cell_type": "markdown",
   "metadata": {},
   "source": [
    "<div class=\"alert alert-block alert-warning\">\n",
    "    \n",
    "<b>PREREQUISITES </b>\n",
    "    \n",
    "The following modules are prerequisites for this notebook:\n",
    "- **1_1_OLCI_data_access.iynb** (this will download the required OLCI products for this notebook)\n",
    "\n",
    "It is recommended to go through these modules before you start with this module.\n",
    "</div>"
   ]
  },
  {
   "cell_type": "markdown",
   "metadata": {},
   "source": [
    "<hr>"
   ]
  },
  {
   "cell_type": "markdown",
   "metadata": {},
   "source": [
    "## OLCI file structure "
   ]
  },
  {
   "cell_type": "markdown",
   "metadata": {},
   "source": [
    "### Learning outcomes\n",
    "\n",
    "* SAFE format\n",
    "* Seeing what components are inside a SAFE format file\n",
    "* Seeing what variables are in each component"
   ]
  },
  {
   "cell_type": "markdown",
   "metadata": {},
   "source": [
    "### Outline"
   ]
  },
  {
   "cell_type": "markdown",
   "metadata": {},
   "source": [
    "<hr>"
   ]
  },
  {
   "cell_type": "code",
   "execution_count": null,
   "metadata": {},
   "outputs": [],
   "source": [
    "# library imports\n",
    "import xarray as xr\n",
    "import glob\n",
    "import os\n",
    "from IPython.display import display, Markdown\n",
    "import xml.etree.ElementTree as ET"
   ]
  },
  {
   "cell_type": "code",
   "execution_count": null,
   "metadata": {},
   "outputs": [],
   "source": [
    "# selecting SAFE directory\n",
    "SAFE_directory = os.path.join(os.getcwd(), 'products', \n",
    "    'S3A_OL_1_EFR____20210717T101015_20210717T101315_20210718T145224_0179_074_122_1980_MAR_O_NT_002.SEN3')"
   ]
  },
  {
   "cell_type": "code",
   "execution_count": null,
   "metadata": {},
   "outputs": [],
   "source": [
    "# selecting SAFE manifest\n",
    "SAFE_manifest = glob.glob(os.path.join(SAFE_directory, 'xfd*.xml'))[0]\n",
    "display(Markdown('**Manifest file:** {}'.format(os.path.basename(SAFE_manifest))))"
   ]
  },
  {
   "cell_type": "code",
   "execution_count": null,
   "metadata": {
    "scrolled": true
   },
   "outputs": [],
   "source": [
    "# Reading SAFE manifest and outputting/collecting component names\n",
    "tree = ET.parse(SAFE_manifest)\n",
    "root = tree.getroot()\n",
    "items = root.find('dataObjectSection')\n",
    "SAFE_components = []\n",
    "for item in items:\n",
    "    display(Markdown(\"**File name:** {}\".format(item[0][0].get('href'))))\n",
    "    display(Markdown(\"*{}*\".format(item[0][0].get('textInfo'))))\n",
    "    print('')\n",
    "    SAFE_components.append(os.path.join(SAFE_directory, item[0][0].get('href')))"
   ]
  },
  {
   "cell_type": "code",
   "execution_count": null,
   "metadata": {
    "scrolled": true
   },
   "outputs": [],
   "source": [
    "# Checking component structure and variables\n",
    "for SAFE_component in sorted(SAFE_components):\n",
    "    ds = xr.open_dataset(SAFE_component)\n",
    "    display(Markdown('**Filename:** {}'.format(os.path.basename(SAFE_component))))\n",
    "    display(ds)"
   ]
  },
  {
   "cell_type": "markdown",
   "metadata": {},
   "source": [
    "<hr>"
   ]
  },
  {
   "cell_type": "markdown",
   "metadata": {},
   "source": [
    "<a href=\"https://gitlab.eumetsat.int/eumetlab/ocean\">View on GitLab</a> | <a href=\"https://training.eumetsat.int/\">EUMETSAT Training</a> | <a href=mailto:ops@eumetsat.int>Contact helpdesk for support </a> | <a href=mailto:Copernicus.training@eumetsat.int>Contact our training team to collaborate on and reuse this material</a></span></p>"
   ]
  }
 ],
 "metadata": {
  "description": "This notebook gives a preliminary overview of the OLCI sensor, linking to further resources and data access routes.",
  "image": "./img/1_OLCI_overview.png",
  "kernelspec": {
   "display_name": "Python 3 (ipykernel)",
   "language": "python",
   "name": "python3"
  },
  "language_info": {
   "codemirror_mode": {
    "name": "ipython",
    "version": 3
   },
   "file_extension": ".py",
   "mimetype": "text/x-python",
   "name": "python",
   "nbconvert_exporter": "python",
   "pygments_lexer": "ipython3",
   "version": "3.9.7"
  },
  "tags": {
   "category": "sensors",
   "domain": "ocean",
   "level": "L1/L2",
   "satellite": "Sentinel-3",
   "sensor": "OLCI"
  },
  "title": "The Ocean and Land Colour Instrument - a marine overview"
 },
 "nbformat": 4,
 "nbformat_minor": 2
}
