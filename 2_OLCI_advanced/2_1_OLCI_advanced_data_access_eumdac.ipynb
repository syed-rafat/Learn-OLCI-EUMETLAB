{
 "cells": [
  {
   "cell_type": "markdown",
   "metadata": {},
   "source": [
    "<img src='../img/EU-Copernicus-EUM_banner_logo.png' align='right' width='50%'></img>"
   ]
  },
  {
   "cell_type": "markdown",
   "metadata": {},
   "source": [
    "<a href=\"../Index.ipynb\"><< Index</a>\n",
    "<br>\n",
    "<a href=\"./2_2_OLCI_advanced_data_access_hda.ipynb\">OLCI advanced data access; WEkEO HDA >></a>"
   ]
  },
  {
   "cell_type": "markdown",
   "metadata": {},
   "source": [
    "Copernicus Marine Training Service <br>\n",
    "**Copyright:** 2022 EUMETSAT <br>\n",
    "**License:** MIT"
   ]
  },
  {
   "cell_type": "markdown",
   "metadata": {},
   "source": [
    "<div class=\"alert alert-block alert-success\">\n",
    "<h1>Learn OLCI: advanced</h1></div>"
   ]
  },
  {
   "cell_type": "markdown",
   "metadata": {},
   "source": [
    "<div class=\"alert alert-block alert-warning\">\n",
    "    \n",
    "<b>PREREQUISITES </b>\n",
    "    \n",
    "The following modules are prerequisites for this notebook:\n",
    "- **None**\n",
    "\n",
    "It is recommended to go through these modules before you start with this module.\n",
    "- **<a href=\"../1_OLCI_introductory/1_1_OLCI_data_access.ipynb\">1_1_OLCI_data_access</a>**\n",
    "\n",
    "</div>\n"
   ]
  },
  {
   "cell_type": "markdown",
   "metadata": {},
   "source": [
    "<hr>"
   ]
  },
  {
   "cell_type": "markdown",
   "metadata": {},
   "source": [
    "<div class=\"alert alert-info\" role=\"alert\">\n",
    "\n",
    "## OLCI: customised downloading from the EUMETSAT Data Store\n",
    "    \n",
    "</div>\n",
    "\n",
    "### Learning outcomes\n",
    "\n",
    "At the end of this notebook you will know;\n",
    "* How to refine your <font color=\"#138D75\">**searches**</font> for OLCI products in the EUMETSAT Data Store using the `eumdac client`\n",
    "* How to <font color=\"#138D75\">**download**</font> components of products\n",
    "* How to pre-screen downloads based on flags\n",
    "* How to download products based on a match-up file\n",
    "\n",
    "### Outline\n",
    "\n",
    "<div class=\"alert alert-info\" role=\"alert\">\n",
    "\n",
    "## <a id='TOC_TOP'></a>Contents\n",
    "\n",
    "</div>\n",
    "    \n",
    "1. [Example 1: Filter by collections](#filter_by_collection)\n",
    "1. [Example 2: Filter by time](#filter_by_time)\n",
    "1. [Example 3: Filter by space and time](#filter_by_space_and_time)\n",
    "1. [Example 4: Download by component](#download_component)\n",
    "1. [Example 5: Filter by flag](#filter_by_flag)\n",
    "\n",
    "<hr>"
   ]
  },
  {
   "cell_type": "code",
   "execution_count": null,
   "metadata": {},
   "outputs": [],
   "source": [
    "import os\n",
    "import json\n",
    "import datetime\n",
    "import shutil\n",
    "import eumdac\n",
    "import validation_tools as vt\n",
    "import inspect\n",
    "import xarray as xr\n",
    "import matplotlib.pyplot as plt\n",
    "import numpy as np\n",
    "import eumartools\n",
    "from shapely import geometry, vectorized\n",
    "\n",
    "# load credentials\n",
    "with open(os.path.join(os.path.expanduser(\"~\"),'.eumdac_credentials')) as json_file:\n",
    "    credentials = json.load(json_file)\n",
    "    token = eumdac.AccessToken((credentials['consumer_key'], credentials['consumer_secret']))\n",
    "    print(f\"This token '{token}' expires {token.expiration}\")\n",
    "\n",
    "# create data store object\n",
    "datastore = eumdac.DataStore(token)\n",
    "\n",
    "# set collection ID for OLCI L2 WFR\n",
    "collectionID = 'EO:EUM:DAT:0407'"
   ]
  },
  {
   "cell_type": "markdown",
   "metadata": {},
   "source": [
    "<div class=\"alert alert-info\" role=\"alert\">\n",
    "\n",
    "## <a id='filter_by_collection'></a>Example 1: Filtering by collection\n",
    "[Back to top](#TOC_TOP)\n",
    "\n",
    "</div>"
   ]
  },
  {
   "cell_type": "code",
   "execution_count": null,
   "metadata": {},
   "outputs": [],
   "source": [
    "# Use collection ID\n",
    "selected_collection = datastore.get_collection(collectionID)\n",
    "print(selected_collection.title)"
   ]
  },
  {
   "cell_type": "markdown",
   "metadata": {},
   "source": [
    "<div class=\"alert alert-info\" role=\"alert\">\n",
    "\n",
    "## <a id='filter_by_time'></a>Example 2: Filtering by time\n",
    "[Back to top](#TOC_TOP)\n",
    "\n",
    "</div>"
   ]
  },
  {
   "cell_type": "code",
   "execution_count": null,
   "metadata": {},
   "outputs": [],
   "source": [
    "# Get the latest product in a collection\n",
    "selected_collection = datastore.get_collection(collectionID)\n",
    "latest = selected_collection.search().first()\n",
    "print(latest)"
   ]
  },
  {
   "cell_type": "code",
   "execution_count": null,
   "metadata": {},
   "outputs": [],
   "source": [
    "# time filter the collection for products\n",
    "start = datetime.datetime(2022, 1, 23, 16, 0)\n",
    "end = datetime.datetime(2022, 1, 23, 16, 15)\n",
    "products = selected_collection.search(dtstart=start, dtend=end)\n",
    "\n",
    "for product in products:\n",
    "    print(product)"
   ]
  },
  {
   "cell_type": "markdown",
   "metadata": {},
   "source": [
    "<div class=\"alert alert-info\" role=\"alert\">\n",
    "\n",
    "## <a id='filter_by_space_and_time'></a>Example 3: Filtering by space and time\n",
    "[Back to top](#TOC_TOP)\n",
    "\n",
    "</div>"
   ]
  },
  {
   "cell_type": "code",
   "execution_count": null,
   "metadata": {},
   "outputs": [],
   "source": [
    "# space/time filter the collection for products\n",
    "selected_collection = datastore.get_collection(collectionID)\n",
    "start = datetime.datetime(2022, 1, 23)\n",
    "end = datetime.datetime(2022, 1, 24)\n",
    "roi = [[-1.0, -1.0], [4.0, -4.0], [8.0, -2.0], [9.0, 2.0], [6.0, 4.0], [1.0, 5.0], [-1.0, -1.0]]\n",
    "\n",
    "products = selected_collection.search(\n",
    "    geo='POLYGON(({}))'.format(','.join([\"{} {}\".format(*coord) for coord in roi])),\n",
    "    dtstart=start, \n",
    "    dtend=end)\n",
    "\n",
    "for product in products:\n",
    "    print(product)"
   ]
  },
  {
   "cell_type": "markdown",
   "metadata": {},
   "source": [
    "<div class=\"alert alert-info\" role=\"alert\">\n",
    "\n",
    "## <a id='download_component'></a>Example 4: Downloading by component\n",
    "[Back to top](#TOC_TOP)\n",
    "\n",
    "</div>"
   ]
  },
  {
   "cell_type": "code",
   "execution_count": null,
   "metadata": {},
   "outputs": [],
   "source": [
    "# Get the latest product in a collection\n",
    "selected_collection = datastore.get_collection(collectionID)\n",
    "latest = selected_collection.search().first()\n",
    "\n",
    "for entry in latest.entries:\n",
    "    if 'xfdumanifest.xml' in entry:\n",
    "        with latest.open(entry=entry) as fsrc, open(fsrc.name, mode='wb') as fdst:\n",
    "            print(f'Downloading {fsrc.name}.')\n",
    "            shutil.copyfileobj(fsrc, fdst)\n",
    "            print(f'Download of file {fsrc.name} finished.')"
   ]
  },
  {
   "cell_type": "markdown",
   "metadata": {},
   "source": [
    "<div class=\"alert alert-info\" role=\"alert\">\n",
    "\n",
    "## <a id='filter_by_flag'></a>Example 5: Filtering by flag\n",
    "[Back to top](#TOC_TOP)\n",
    "\n",
    "</div>"
   ]
  },
  {
   "cell_type": "markdown",
   "metadata": {},
   "source": [
    "As we can choose to download a single component, we can download only the flags and use the information contained in it to decide if we want the whole product."
   ]
  },
  {
   "cell_type": "code",
   "execution_count": null,
   "metadata": {},
   "outputs": [],
   "source": [
    "# Set the geometry for our ROI\n",
    "roi = [[6.0, -10.0], [8.0, -10.0], [8.0, -8.0], [6.0, -8.0], [6.0, -10.0]]"
   ]
  },
  {
   "cell_type": "code",
   "execution_count": null,
   "metadata": {},
   "outputs": [],
   "source": [
    "selected_collection = datastore.get_collection(collectionID)\n",
    "# Get the latest product in a collection that matches this ROI\n",
    "latest = selected_collection.search(\n",
    "    geo='POLYGON(({}))'.format(','.join([\"{} {}\".format(*coord) for coord in roi])),).first()\n",
    "\n",
    "# Get the flag product (for OLCI L2 this is wqsf.nc, for OLCI L1 this is qualityFlags.nc) and coordinates\n",
    "for entry in latest.entries:\n",
    "    if entry == 'wqsf.nc' or entry == 'geo_coordinates.nc':\n",
    "        with latest.open(entry=entry) as fsrc, open(fsrc.name, mode='wb') as fdst:\n",
    "            print(f'Downloading {fsrc.name}.')\n",
    "            shutil.copyfileobj(fsrc, fdst)\n",
    "            print(f'Download of file {fsrc.name} finished.')"
   ]
  },
  {
   "cell_type": "code",
   "execution_count": null,
   "metadata": {},
   "outputs": [],
   "source": [
    "# Read in the coordinate data and build a spatial mask\n",
    "geo_fid = xr.open_dataset('geo_coordinates.nc')\n",
    "lat = geo_fid.get('latitude').data\n",
    "lon = geo_fid.get('longitude').data\n",
    "geo_fid.close()\n",
    "\n",
    "point_mask = vectorized.contains(geometry.Polygon(roi), lon,lat)"
   ]
  },
  {
   "cell_type": "code",
   "execution_count": null,
   "metadata": {
    "scrolled": false
   },
   "outputs": [],
   "source": [
    "# Now check the flag content for our polygon\n",
    "flag_file = 'wqsf.nc'\n",
    "flag_variable = 'WQSF'\n",
    "flags_to_use = ['CLOUD']\n",
    "flag_mask = eumartools.flag_mask(flag_file, flag_variable, flags_to_use)"
   ]
  },
  {
   "cell_type": "code",
   "execution_count": null,
   "metadata": {
    "scrolled": false
   },
   "outputs": [],
   "source": [
    "# Now find the union of the spatil and flag mask\n",
    "fig1, (ax1, ax2) = plt.subplots(1, 2,figsize=(10, 10), dpi=150)\n",
    "ax1.imshow(flag_mask, interpolation=\"none\")\n",
    "ax2.imshow(point_mask*flag_mask, interpolation=\"none\")\n",
    "plt.show()"
   ]
  },
  {
   "cell_type": "code",
   "execution_count": null,
   "metadata": {},
   "outputs": [],
   "source": [
    "# Now check the % flag cover in our ROI. Then you can decide if you want the full product\n",
    "pc_cover = int(np.sum(point_mask*flag_mask)/np.sum(point_mask)*100)\n",
    "print(f'Percent flag cover {pc_cover}%')"
   ]
  },
  {
   "cell_type": "code",
   "execution_count": null,
   "metadata": {},
   "outputs": [],
   "source": [
    "pc_cover_threshold = 40\n",
    "if pc_cover > pc_cover_threshold:\n",
    "    with latest.open() as fsrc, open(fsrc.name, mode='wb') as fdst:\n",
    "        print(f'Downloading {fsrc.name}.')\n",
    "        shutil.copyfileobj(fsrc, fdst)\n",
    "        print(f'Download of file {fsrc.name} finished.')\n",
    "else:\n",
    "    print(f'Percent flag cover > threshold ({pc_cover_threshold}%), skipping download')"
   ]
  },
  {
   "cell_type": "markdown",
   "metadata": {},
   "source": [
    "<hr>"
   ]
  },
  {
   "cell_type": "markdown",
   "metadata": {},
   "source": [
    "<a href=\"https://gitlab.eumetsat.int/eumetlab/ocean\">View on GitLab</a> | <a href=\"https://training.eumetsat.int/\">EUMETSAT Training</a> | <a href=mailto:ops@eumetsat.int>Contact helpdesk for support </a> | <a href=mailto:Copernicus.training@eumetsat.int>Contact our training team to collaborate on and reuse this material</a></span></p>"
   ]
  }
 ],
 "metadata": {
  "description": "This notebook gives a preliminary overview of the OLCI sensor, linking to further resources and data access routes.",
  "image": "./img/1_OLCI_overview.png",
  "kernelspec": {
   "display_name": "Python 3 (ipykernel)",
   "language": "python",
   "name": "python3"
  },
  "language_info": {
   "codemirror_mode": {
    "name": "ipython",
    "version": 3
   },
   "file_extension": ".py",
   "mimetype": "text/x-python",
   "name": "python",
   "nbconvert_exporter": "python",
   "pygments_lexer": "ipython3",
   "version": "3.8.12"
  },
  "tags": {
   "category": "sensors",
   "domain": "ocean",
   "level": "L1/L2",
   "satellite": "Sentinel-3",
   "sensor": "OLCI"
  },
  "title": "The Ocean and Land Colour Instrument - a marine overview"
 },
 "nbformat": 4,
 "nbformat_minor": 2
}
