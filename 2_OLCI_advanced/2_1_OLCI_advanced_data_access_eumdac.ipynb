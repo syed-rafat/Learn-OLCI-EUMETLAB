{
 "cells": [
  {
   "cell_type": "markdown",
   "metadata": {},
   "source": [
    "<img src='https://gitlab.eumetsat.int/eumetlab/oceans/ocean-training/tools/frameworks/-/raw/main/img/Standard_banner.png' align='right' width='100%'/>"
   ]
  },
  {
   "cell_type": "markdown",
   "metadata": {},
   "source": [
    "<a href=\"../Index.ipynb\" target=\"_blank\"><< Index</a>\n",
    "<br>\n",
    "<a href=\"./2_2_acquire_OLCI_time_series.ipynb\" target=\"_blank\">Acquiring a regional OLCI times series >></a>"
   ]
  },
  {
   "cell_type": "markdown",
   "metadata": {},
   "source": [
    "<font color=\"#138D75\">**Copernicus Marine Training Service**</font> <br>\n",
    "**Copyright:** 2023 EUMETSAT <br>\n",
    "**License:** MIT <br>\n",
    "**Authors:** Ben Loveday (EUMETSAT/Innoflair UG), Hayley Evers-King (EUMETSAT)"
   ]
  },
  {
   "cell_type": "markdown",
   "metadata": {},
   "source": [
    "<html>\n",
    "  <div style=\"width:100%\">\n",
    "    <div style=\"float:left\"><a href=\"https://mybinder.org/v2/git/https%3A%2F%2Fgitlab.eumetsat.int%2Feumetlab%2Foceans%2Focean-training%2Fsensors%2Flearn-olci/HEAD?urlpath=%2Ftree%2F2_OLCI_advanced%2F2_1_OLCI_advanced_data_access_eumdac.ipynb\"><img src=\"https://mybinder.org/badge_logo.svg\" alt=\"Open in Binder\"></a></div>\n",
    "    <div style=\"float:left\"><p>&emsp;</p></div>\n",
    "  </div>\n",
    "</html>"
   ]
  },
  {
   "cell_type": "markdown",
   "metadata": {},
   "source": [
    "<div class=\"alert alert-block alert-success\">\n",
    "<h3>Learn OLCI: Advanced</h3></div>"
   ]
  },
  {
   "cell_type": "markdown",
   "metadata": {},
   "source": [
    "<div class=\"alert alert-block alert-warning\">\n",
    "    \n",
    "<b>PREREQUISITES </b>\n",
    "    \n",
    "The following modules are prerequisites for this notebook:\n",
    "- **<a href=\"../1_OLCI_introductory/1_1a_OLCI_data_access_Data_Store.ipynb\">1_1a_OLCI_data_access_Data_Store</a>**\n",
    "\n",
    "</div>\n",
    "<hr>"
   ]
  },
  {
   "cell_type": "markdown",
   "metadata": {},
   "source": [
    "# 2.1 OLCI advanced data access via the Data Store using eumdac\n",
    "\n",
    "### Data used\n",
    "\n",
    "| Product Description | Data Store collection ID| Product Navigator |\n",
    "|:--------------------:|:-----------------------:|:-------------:|\n",
    "| Sentinel-3 OLCI level-2 full resolution | EO:EUM:DAT:0407 | <a href=\"https://navigator.eumetsat.int/product/EO:EUM:DAT:SENTINEL-3:OL_2_WFR___NTC?query=OLCI&filter=satellite__Sentinel-3&filter=instrument__OLCI&filter=processingLevel__Level%202%20Data&s=advanced\" target=\"_blank\">link</a> |\n",
    "\n",
    "### Learning outcomes\n",
    "\n",
    "At the end of this notebook you will know;\n",
    "* How to refine your <font color=\"#138D75\">**searches**</font> for OLCI products in the EUMETSAT Data Store using the `eumdac client`\n",
    "* How to <font color=\"#138D75\">**download**</font> components of products\n",
    "* How to pre-screen downloads based on flags\n",
    "\n",
    "### Outline\n",
    "\n",
    "The EUMETSAT Data Store offers many ways to interact with data in order to refine searches. Many of these methods are supported by the EUMETSAT Data Access Client (`eumdac`). In this notebook we will showcase some of the possibilities for using `eumdac` to better interact with OLCI collections. This notebook assumes that you already have an understanding of the available Data Store interfaces, which you can gain by running the **<a href=\"../1_OLCI_introductory/1_1a_OLCI_data_access_Data_Store.ipynb\">1_1a_OLCI_data_access_Data_Store</a>** notebook.\n",
    "\n",
    "\n",
    "<div class=\"alert alert-info\" role=\"alert\">\n",
    "\n",
    "## <a id='TOC-TOP'></a>Contents\n",
    "\n",
    "</div>\n",
    "    \n",
    "1. [Example 1: Filter by collections](#section1)\n",
    "1. [Example 2: Filter by time](#section2)\n",
    "1. [Example 3: Filter by space and time](#section3)\n",
    "1. [Example 4: Download by component](#section4)\n",
    "1. [Example 5: Filter by flag](#section5)\n",
    "\n",
    "<hr>"
   ]
  },
  {
   "cell_type": "markdown",
   "metadata": {},
   "source": [
    "We begin by importing all of the libraries that we need to run this notebook. If you have built your python using the environment file provided in this repository, then you should have everything you need. For more information on building environment, please see the repository **<a href=\"../README.md\" target=\"_blank\">README</a>**."
   ]
  },
  {
   "cell_type": "code",
   "execution_count": 1,
   "metadata": {},
   "outputs": [
    {
     "name": "stderr",
     "output_type": "stream",
     "text": [
      "/Users/benloveday/opt/anaconda3/envs/cmts_learn_olci/lib/python3.9/site-packages/scipy/__init__.py:155: UserWarning: A NumPy version >=1.18.5 and <1.25.0 is required for this version of SciPy (detected version 1.25.0\n",
      "  warnings.warn(f\"A NumPy version >={np_minversion} and <{np_maxversion}\"\n"
     ]
    }
   ],
   "source": [
    "import os\n",
    "import json\n",
    "import datetime\n",
    "import shutil\n",
    "import eumdac\n",
    "import inspect\n",
    "import xarray as xr\n",
    "import matplotlib.pyplot as plt\n",
    "import numpy as np\n",
    "import eumartools\n",
    "from shapely import geometry, vectorized\n",
    "\n",
    "# Create a download directory for our SLSTR products\n",
    "download_dir = os.path.join(os.getcwd(), \"products\")\n",
    "os.makedirs(download_dir, exist_ok=True)"
   ]
  },
  {
   "cell_type": "markdown",
   "metadata": {},
   "source": [
    "Before we use the Data Store to download data, we must first authenticate our access and retrieve an access token. More information on setting this up can be found in the **<a href=\"../1_OLCI_introductory/1_1a_OLCI_data_access_Data_Store.ipynb\">1_1a_OLCI_data_access_Data_Store</a>** notebook."
   ]
  },
  {
   "cell_type": "code",
   "execution_count": 2,
   "metadata": {},
   "outputs": [
    {
     "name": "stdout",
     "output_type": "stream",
     "text": [
      "This token 'd6397351-4fe9-3609-849e-9083e8dc93f8' expires 2023-07-04 15:22:43.171400\n"
     ]
    }
   ],
   "source": [
    "# load credentials\n",
    "with open(os.path.join(os.path.expanduser(\"~\"),'.eumdac_credentials')) as json_file:\n",
    "    credentials = json.load(json_file)\n",
    "    token = eumdac.AccessToken((credentials['consumer_key'], credentials['consumer_secret']))\n",
    "    print(f\"This token '{token}' expires {token.expiration}\")\n",
    "\n",
    "# create data store object\n",
    "datastore = eumdac.DataStore(token)"
   ]
  },
  {
   "cell_type": "markdown",
   "metadata": {},
   "source": [
    "We will work with the OLCI Level-2 full resolution collection throughout this notebook. The code for this is `EO:EUM:DAT:0407`"
   ]
  },
  {
   "cell_type": "code",
   "execution_count": 3,
   "metadata": {},
   "outputs": [],
   "source": [
    "# set collection ID for OLCI L2 WFR\n",
    "collectionID = 'EO:EUM:DAT:0407'"
   ]
  },
  {
   "cell_type": "markdown",
   "metadata": {},
   "source": [
    "<div class=\"alert alert-info\" role=\"alert\">\n",
    "\n",
    "## <a id='section1'></a>Example 1: Filtering by collection\n",
    "[Back to top](#TOC-TOP)\n",
    "\n",
    "</div>"
   ]
  },
  {
   "cell_type": "markdown",
   "metadata": {},
   "source": [
    "To filter by collection, we simply provide the collectionID to the `datastore.get_collection method`"
   ]
  },
  {
   "cell_type": "code",
   "execution_count": 4,
   "metadata": {},
   "outputs": [
    {
     "name": "stdout",
     "output_type": "stream",
     "text": [
      "OLCI Level 2 Ocean Colour Full Resolution - Sentinel-3\n"
     ]
    }
   ],
   "source": [
    "# Use collection ID\n",
    "selected_collection = datastore.get_collection(collectionID)\n",
    "print(selected_collection.title)"
   ]
  },
  {
   "cell_type": "markdown",
   "metadata": {},
   "source": [
    "<div class=\"alert alert-info\" role=\"alert\">\n",
    "\n",
    "## <a id='section2'></a>Example 2: Filtering by time\n",
    "[Back to top](#TOC-TOP)\n",
    "\n",
    "</div>"
   ]
  },
  {
   "cell_type": "markdown",
   "metadata": {},
   "source": [
    "To get the latest product in a collection, we can just ask for the `.first()` method, when searching in our selected collection using `.search()`."
   ]
  },
  {
   "cell_type": "code",
   "execution_count": 5,
   "metadata": {},
   "outputs": [
    {
     "name": "stdout",
     "output_type": "stream",
     "text": [
      "S3A_OL_2_WFR____20230704T104821_20230704T105121_20230704T123855_0179_100_336_3600_MAR_O_NR_003.SEN3\n"
     ]
    }
   ],
   "source": [
    "# Get the latest product in a collection\n",
    "selected_collection = datastore.get_collection(collectionID)\n",
    "latest = selected_collection.search().first()\n",
    "print(latest)"
   ]
  },
  {
   "cell_type": "markdown",
   "metadata": {},
   "source": [
    "To filter by time, we can pass python datetime arguments to the **dtstart** and **dtend** arguments of our collection when using the `.search()` method."
   ]
  },
  {
   "cell_type": "code",
   "execution_count": 6,
   "metadata": {},
   "outputs": [
    {
     "name": "stdout",
     "output_type": "stream",
     "text": [
      "S3B_OL_2_WFR____20220123T161232_20220123T161532_20220125T055503_0180_061_382_3420_MAR_O_NT_003.SEN3\n",
      "S3B_OL_2_WFR____20220123T160932_20220123T161232_20220125T055441_0179_061_382_3240_MAR_O_NT_003.SEN3\n",
      "S3B_OL_2_WFR____20220123T160632_20220123T160932_20220125T055422_0179_061_382_3060_MAR_O_NT_003.SEN3\n",
      "S3B_OL_2_WFR____20220123T160332_20220123T160632_20220125T055400_0179_061_382_2880_MAR_O_NT_003.SEN3\n",
      "S3B_OL_2_WFR____20220123T160032_20220123T160332_20220125T055340_0179_061_382_2700_MAR_O_NT_003.SEN3\n",
      "S3B_OL_2_WFR____20220123T155732_20220123T160032_20220125T055318_0179_061_382_2520_MAR_O_NT_003.SEN3\n"
     ]
    }
   ],
   "source": [
    "# time filter the collection for products\n",
    "start = datetime.datetime(2022, 1, 23, 16, 0)\n",
    "end = datetime.datetime(2022, 1, 23, 16, 15)\n",
    "products = selected_collection.search(dtstart=start, dtend=end)\n",
    "\n",
    "for product in products:\n",
    "    print(product)"
   ]
  },
  {
   "cell_type": "markdown",
   "metadata": {},
   "source": [
    "<div class=\"alert alert-info\" role=\"alert\">\n",
    "\n",
    "## <a id='section3'></a>Example 3: Filtering by space and time\n",
    "[Back to top](#TOC-TOP)\n",
    "\n",
    "</div>"
   ]
  },
  {
   "cell_type": "markdown",
   "metadata": {},
   "source": [
    "We can also add geographical filtering by passing in a <a href=\"https://en.wikipedia.org/wiki/Well-known_text_representation_of_geometry\" target=\"_blank\">Well Known Text</a> (WKT) format region of interest into the **geo** argument of the `.search()` method."
   ]
  },
  {
   "cell_type": "code",
   "execution_count": 7,
   "metadata": {},
   "outputs": [
    {
     "name": "stdout",
     "output_type": "stream",
     "text": [
      "S3A_OL_2_WFR____20220123T100205_20220123T100505_20220124T223346_0179_081_136_3060_MAR_O_NT_003.SEN3\n",
      "S3A_OL_2_WFR____20220123T095905_20220123T100205_20220124T223325_0179_081_136_2880_MAR_O_NT_003.SEN3\n",
      "S3B_OL_2_WFR____20220123T092235_20220123T092535_20220124T223420_0179_061_378_3060_MAR_O_NT_003.SEN3\n",
      "S3B_OL_2_WFR____20220123T091935_20220123T092235_20220124T223353_0179_061_378_2880_MAR_O_NT_003.SEN3\n"
     ]
    }
   ],
   "source": [
    "# space/time filter the collection for products\n",
    "selected_collection = datastore.get_collection(collectionID)\n",
    "start = datetime.datetime(2022, 1, 23)\n",
    "end = datetime.datetime(2022, 1, 24)\n",
    "roi = [[-1.0, -1.0], [4.0, -4.0], [8.0, -2.0], [9.0, 2.0], [6.0, 4.0], [1.0, 5.0], [-1.0, -1.0]]\n",
    "\n",
    "products = selected_collection.search(\n",
    "    geo='POLYGON(({}))'.format(','.join([\"{} {}\".format(*coord) for coord in roi])),\n",
    "    dtstart=start, \n",
    "    dtend=end)\n",
    "\n",
    "for product in products:\n",
    "    print(product)"
   ]
  },
  {
   "cell_type": "markdown",
   "metadata": {},
   "source": [
    "<div class=\"alert alert-info\" role=\"alert\">\n",
    "\n",
    "## <a id='section4'></a>Example 4: Downloading by component\n",
    "[Back to top](#TOC-TOP)\n",
    "\n",
    "</div>"
   ]
  },
  {
   "cell_type": "markdown",
   "metadata": {},
   "source": [
    "It is possible to download any component of a SAFE format file. This can be achieved by using iterating through the `entries` attribute of a product and string matching to your component of interest - in this case the manifest file.\n",
    "\n",
    "*Note: It is not currently possible to download a single variable from **inside** a netCDF file*."
   ]
  },
  {
   "cell_type": "code",
   "execution_count": 8,
   "metadata": {},
   "outputs": [
    {
     "name": "stdout",
     "output_type": "stream",
     "text": [
      "Downloading xfdumanifest.xml.\n",
      "Download of file xfdumanifest.xml finished.\n"
     ]
    }
   ],
   "source": [
    "# Get the latest product in a collection\n",
    "selected_collection = datastore.get_collection(collectionID)\n",
    "latest = selected_collection.search().first()\n",
    "\n",
    "for entry in latest.entries:\n",
    "    if 'xfdumanifest.xml' in entry:\n",
    "        with latest.open(entry=entry) as fsrc, open(os.path.join(os.getcwd(), 'products',fsrc.name),\n",
    "                                                    mode='wb') as fdst:\n",
    "            print(f'Downloading {fsrc.name}.')\n",
    "            shutil.copyfileobj(fsrc, fdst)\n",
    "            print(f'Download of file {fsrc.name} finished.')"
   ]
  },
  {
   "cell_type": "markdown",
   "metadata": {},
   "source": [
    "<div class=\"alert alert-info\" role=\"alert\">\n",
    "\n",
    "## <a id='section5'></a>Example 5: Filtering by flag\n",
    "[Back to top](#TOC-TOP)\n",
    "\n",
    "</div>"
   ]
  },
  {
   "cell_type": "markdown",
   "metadata": {},
   "source": [
    "As OLCI Level-2 product store flags in a separate netCDF file, we can choose to download the flags as a single component, check the information it contains, and then decide if we want the whole product based on the coverage."
   ]
  },
  {
   "cell_type": "code",
   "execution_count": 9,
   "metadata": {},
   "outputs": [],
   "source": [
    "# Set the geometry for our ROI\n",
    "roi = [[6.0, -10.0], [8.0, -10.0], [8.0, -8.0], [6.0, -8.0], [6.0, -10.0]]"
   ]
  },
  {
   "cell_type": "code",
   "execution_count": 10,
   "metadata": {},
   "outputs": [
    {
     "name": "stdout",
     "output_type": "stream",
     "text": [
      "Downloading wqsf.nc.\n",
      "Download of file wqsf.nc finished.\n",
      "Downloading tie_geo_coordinates.nc.\n",
      "Download of file tie_geo_coordinates.nc finished.\n",
      "Downloading geo_coordinates.nc.\n",
      "Download of file geo_coordinates.nc finished.\n"
     ]
    }
   ],
   "source": [
    "selected_collection = datastore.get_collection(collectionID)\n",
    "# Get the latest product in a collection that matches this ROI\n",
    "latest = selected_collection.search(\n",
    "    geo='POLYGON(({}))'.format(','.join([\"{} {}\".format(*coord) for coord in roi])),).first()\n",
    "\n",
    "# Get the flag product (for OLCI L2 this is wqsf.nc, for OLCI L1 this is qualityFlags.nc) and coordinates\n",
    "for entry in latest.entries:\n",
    "    if \"Oa01_reflectance\" in entry:\n",
    "        required_entry = entry\n",
    "    if 'wqsf.nc' in entry or 'geo_coordinates.nc' in entry:\n",
    "        with latest.open(entry=entry) as fsrc, open(os.path.join(os.getcwd(), 'products', fsrc.name),\n",
    "                                                    mode='wb') as fdst:\n",
    "            print(f'Downloading {fsrc.name}.')\n",
    "            shutil.copyfileobj(fsrc, fdst)\n",
    "            print(f'Download of file {fsrc.name} finished.')"
   ]
  },
  {
   "cell_type": "code",
   "execution_count": 11,
   "metadata": {},
   "outputs": [],
   "source": [
    "# Read in the coordinate data and build a spatial mask\n",
    "geo_fid = xr.open_dataset(os.path.join(os.getcwd(), 'products', 'geo_coordinates.nc'))\n",
    "lat = geo_fid.get('latitude').data\n",
    "lon = geo_fid.get('longitude').data\n",
    "geo_fid.close()\n",
    "\n",
    "point_mask = vectorized.contains(geometry.Polygon(roi), lon,lat)"
   ]
  },
  {
   "cell_type": "code",
   "execution_count": 12,
   "metadata": {},
   "outputs": [],
   "source": [
    "# Now check the flag content for our polygon\n",
    "flag_file = os.path.join(os.getcwd(), 'products', 'wqsf.nc')\n",
    "flag_variable = 'WQSF'\n",
    "flags_to_use = ['CLOUD','LAND']\n",
    "flag_mask = eumartools.flag_mask(flag_file, flag_variable, flags_to_use)"
   ]
  },
  {
   "cell_type": "code",
   "execution_count": 13,
   "metadata": {},
   "outputs": [
    {
     "data": {
      "image/png": "[encoded data removed]",
      "text/plain": [
       "<Figure size 1500x1500 with 2 Axes>"
      ]
     },
     "metadata": {},
     "output_type": "display_data"
    }
   ],
   "source": [
    "# Now find the union of the spatil and flag mask\n",
    "fig1, (ax1, ax2) = plt.subplots(1, 2,figsize=(10, 10), dpi=150)\n",
    "ax1.set_title('Flagged pixels (black) for whole scene')\n",
    "ax1.imshow(flag_mask, interpolation=\"none\", cmap=plt.cm.Greys)\n",
    "ax2.set_title('Flagged pixels (black) for ROI')\n",
    "ax2.imshow(point_mask*flag_mask, interpolation=\"none\", cmap=plt.cm.Greys)\n",
    "plt.show()"
   ]
  },
  {
   "cell_type": "code",
   "execution_count": 14,
   "metadata": {},
   "outputs": [
    {
     "name": "stdout",
     "output_type": "stream",
     "text": [
      "Percent flag cover 96%\n"
     ]
    }
   ],
   "source": [
    "# Now check the % flag cover in our ROI. Then you can decide if you want the full product\n",
    "pc_cover = int(np.sum(point_mask*flag_mask)/np.sum(point_mask)*100)\n",
    "print(f'Percent flag cover {pc_cover}%')"
   ]
  },
  {
   "cell_type": "code",
   "execution_count": 15,
   "metadata": {},
   "outputs": [
    {
     "name": "stdout",
     "output_type": "stream",
     "text": [
      "Downloading Oa01_reflectance.nc.\n",
      "Download of file Oa01_reflectance.nc finished.\n"
     ]
    }
   ],
   "source": [
    "pc_cover_threshold = 40\n",
    "if pc_cover > pc_cover_threshold:\n",
    "    with latest.open(entry=required_entry) as fsrc, open(os.path.join(os.getcwd(), 'products',fsrc.name),\n",
    "                                                mode='wb') as fdst:\n",
    "        print(f'Downloading {fsrc.name}.')\n",
    "        shutil.copyfileobj(fsrc, fdst)\n",
    "        print(f'Download of file {fsrc.name} finished.')\n",
    "else:\n",
    "    print(f'Percent flag cover < threshold ({pc_cover_threshold}%), skipping download')"
   ]
  },
  {
   "cell_type": "markdown",
   "metadata": {},
   "source": [
    "<a href=\"../Index.ipynb\" target=\"_blank\"><< Index</a>\n",
    "<br>\n",
    "<a href=\"./2_2_acquire_OLCI_time_series.ipynb\" target=\"_blank\">Acquiring a regional OLCI times series >></a>\n",
    "<hr>\n",
    "<a href=\"https://gitlab.eumetsat.int/eumetlab/ocean\" target=\"_blank\">View on GitLab</a> | <a href=\"https://training.eumetsat.int/\" target=\"_blank\">EUMETSAT Training</a> | <a href=mailto:ops@eumetsat.int target=\"_blank\">Contact helpdesk for support </a> | <a href=mailto:Copernicus.training@eumetsat.int target=\"_blank\">Contact our training team to collaborate on and reuse this material</a></span></p>"
   ]
  }
 ],
 "metadata": {
  "author": "Ben Loveday, Hayley Evers-King",
  "description": "This Jupyter Notebook shows advanced methods for accessing Sentinel-3 Ocean and Land Colour Instrument (OLCI) data via the EUMETSAT Data Store.",
  "image": "../img/thumbs/2_1_OLCI_advanced_data_access_eumdac_thumb.png",
  "kernelspec": {
   "display_name": "Python 3 (ipykernel)",
   "language": "python",
   "name": "python3"
  },
  "language_info": {
   "codemirror_mode": {
    "name": "ipython",
    "version": 3
   },
   "file_extension": ".py",
   "mimetype": "text/x-python",
   "name": "python",
   "nbconvert_exporter": "python",
   "pygments_lexer": "ipython3",
   "version": "3.9.16"
  },
  "services": {
   "eumetsat": {
    "binder": {
     "link": "https://mybinder.org/v2/git/https%3A%2F%2Fgitlab.eumetsat.int%2Feumetlab%2Foceans%2Focean-training%2Fsensors%2Flearn-olci/HEAD?urlpath=%2Ftree%2F2_OLCI_advanced%2F2_1_OLCI_advanced_data_access_eumdac.ipynb",
     "service_contact": "ops@eumetsat.int",
     "service_provider": "EUMETSAT"
    },
    "git": {
     "link": "https://gitlab.eumetsat.int/eumetlab/oceans/ocean-training/sensors/learn-olci/-/blob/main/2_OLCI_advanced/2_1_OLCI_advanced_data_access_eumdac.ipynb",
     "service_contact": "ops@eumetsat.int",
     "service_provider": "EUMETSAT"
    }
   },
   "wekeo": {
    "git": {
     "link": "",
     "service_contact": "ops@eumetsat.int",
     "service_provider": "EUMETSAT"
    },
    "url": {
     "link": "",
     "service_contact": "ops@eumetsat.int",
     "service_provider": "EUMETSAT"
    }
   }
  },
  "tags": {
   "domain": "Marine",
   "platform": [
    "Sentinel-3"
   ],
   "sensor": "OLCI",
   "service": "EUMETSAT",
   "subtheme": [
    "Ocean biogeochemistry",
    "Water quality",
    "Ocean fluxes"
   ],
   "tags": [
    "Top-of-atmosphere radiance",
    "Water leaving reflectance",
    "Chlorophyll concentration",
    "Photosynthetically active radiation",
    "Diffuse attentuation coefficient",
    "Coloured dissolved organic matter absorption coefficient",
    "Total suspended matter concentration",
    "Ocean colour"
   ]
  },
  "title": "Accessing Sentinel-3 OLCI data via the EUMETSAT Data Store: advanced methods"
 },
 "nbformat": 4,
 "nbformat_minor": 4
}
