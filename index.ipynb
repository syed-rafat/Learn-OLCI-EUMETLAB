{
 "cells": [
  {
   "cell_type": "markdown",
   "metadata": {
    "Collapsed": "false"
   },
   "source": [
    "<img src='./img/EU-Copernicus-EUM_banner_logo.png' align='right' width='50%'/>"
   ]
  },
  {
   "cell_type": "markdown",
   "metadata": {},
   "source": [
    "Copernicus Marine Training Service <br>\n",
    "**Copyright:** 2022 EUMETSAT <br>\n",
    "**License:** MIT"
   ]
  },
  {
   "cell_type": "markdown",
   "metadata": {
    "Collapsed": "false"
   },
   "source": [
    "<hr>"
   ]
  },
  {
   "cell_type": "markdown",
   "metadata": {
    "Collapsed": "false"
   },
   "source": [
    "# Learn OLCI\n",
    "\n",
    "**learn_olci** is a collection of Python-based code designed to demonstrate\n",
    "the capability of, and provide training on the use of the EUMETSATs data services and provided Python interface EUMIDAS.\n",
    "\n",
    "The course is based on [Jupyter notebooks](https://jupyter.org/), which allow\n",
    "a high-level of interactive learning, as code, text description and \n",
    "visualisation is combined in one place. If you have not worked with \n",
    "`Jupyter Notebooks` before, you can look at the module \n",
    "[Introduction to Python and Project Jupyter](https://gitlab.eumetsat.int/eumetlab/data-services/eumetsat-python-for-data-services) \n",
    "to get a short introduction to Jupyter notebooks and their benefits.\n",
    "\n",
    "This section of the code is focussed on using the **Data Store** and it's APIs, mainly with the **EUMIDAS** Python library. If you need more background on how EUMIDAS works and which capabilities it has, you can check out the [EUMIDAS documentation](https://eumetsat.int).\n",
    "\n",
    "You will need an access token to use certain parts of the **Data Store** APIs. For the token generation you'll need your personal API keys, you find here [https://api.eumetsat.int/api-key](https://api.eumetsat.int/api-key) module.\n",
    "\n",
    "## How to use this course material\n",
    "\n",
    "These lessons will walk you through how to discover, browse, search and download products in the EUMETSAT Data Store, using the EUMIDAS Python library. At the end of this tutorial, you should be able to interface with the EUMETSAT Data Store catalogue using a programmatic framework."
   ]
  },
  {
   "cell_type": "markdown",
   "metadata": {
    "Collapsed": "false"
   },
   "source": [
    "## Resources and material"
   ]
  },
  {
   "cell_type": "markdown",
   "metadata": {
    "Collapsed": "false"
   },
   "source": [
    "The course follows a modular approach and offers the following modules:\n",
    "\n",
    " 1. **[Discovering collections](./1_Discovering_collections.ipynb)**<br />This module will show you how to discover EUMETSAT Data Store collections with the EUMIDAS Python client and how to get the collection ID.\n",
    " 2. **[Discovering and filtering products](./2_Discovering_and_filtering_products.ipynb)**<br />This module will show you how to discover products in a collection and filter them by  area and time.\n",
    " 3. **[Downloading products](./3_Downloading_products.ipynb)**<br />This module will show you how to download whole products or just a single file in various ways."
   ]
  },
  {
   "cell_type": "markdown",
   "metadata": {
    "Collapsed": "false"
   },
   "source": [
    "## Learning outcomes"
   ]
  },
  {
   "cell_type": "markdown",
   "metadata": {
    "Collapsed": "false"
   },
   "source": [
    "The course is designed for `medium-level users`, who have basic Python knowledge and an understanding of the EUMETSAT products relevant to their applicaton of interest."
   ]
  },
  {
   "cell_type": "markdown",
   "metadata": {
    "Collapsed": "false"
   },
   "source": [
    "<hr>"
   ]
  },
  {
   "cell_type": "markdown",
   "metadata": {
    "Collapsed": "false"
   },
   "source": [
    "<p style=\"text-align:left;\">This project is licensed under the <a href=\"./LICENSE_MIT.txt\">MIT License</a> | <span style=\"float:right;\"><a href=\"https://gitlab.eumetsat.int/eumetlab/oceans\">View on GitLab</a> | <a href=\"https://training.eumetsat.int/\">EUMETSAT Training</a> | <a href=mailto:ops@eumetsat.int>Contact</a></span></p>"
   ]
  }
 ],
 "metadata": {
  "kernelspec": {
   "display_name": "Python 3 (ipykernel)",
   "language": "python",
   "name": "python3"
  },
  "language_info": {
   "codemirror_mode": {
    "name": "ipython",
    "version": 3
   },
   "file_extension": ".py",
   "mimetype": "text/x-python",
   "name": "python",
   "nbconvert_exporter": "python",
   "pygments_lexer": "ipython3",
   "version": "3.9.7"
  }
 },
 "nbformat": 4,
 "nbformat_minor": 4
}
