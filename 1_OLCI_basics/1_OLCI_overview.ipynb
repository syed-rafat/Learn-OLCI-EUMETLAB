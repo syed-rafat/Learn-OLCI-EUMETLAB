{
 "cells": [
  {
   "cell_type": "markdown",
   "metadata": {},
   "source": [
    "<img src='./img/EU-Copernicus-EUM_3Logos.png' alt='Logo EU Copernicus EUMETSAT' align='right' width='50%'></img>"
   ]
  },
  {
   "cell_type": "markdown",
   "metadata": {},
   "source": [
    "<a href=\"environment_setup/EUMETlab_environment.ipynb\"><< Setting up a Python Environment</a><span style=\"float:right;\"><a href=\"./12_OLCI_data_access.ipynb\">1.2 - Ocean and Land Colour Instrument data access >></a> "
   ]
  },
  {
   "cell_type": "markdown",
   "metadata": {},
   "source": [
    "## 1. Ocean and Land Colour Instrument - Overview \n"
   ]
  },
  {
   "cell_type": "markdown",
   "metadata": {},
   "source": [
    "OLCI provides spectral information on the colour of the oceans. This data can be used to monitor global ocean primary production by phytoplankton, the basis of nearly all life in our seas.\n",
    "\n",
    "Ocean colour data is also vital to understand climate change — ocean colour is one of the Essential Climate Variables listed by the World Meteorological Organization to detect biological activity in the ocean’s surface layer. Phytoplankton take up carbon dioxide (CO$_{2}$) during photosynthesis, making them important carbon sinks. Ocean colour data can be used to monitor the annual global uptake of CO$_{2}$ by phytoplankton on a global scale. Using this data we can study the wider Earth system, for instance the El Niño/La Niña phenomena and how these impacts the ocean ecosystem.\n",
    "\n",
    "Beyond climate, ocean colour data is also useful to look at more sporadic events. OLCI data can be used track sediment transport, monitor coastal water quality and track and forecast harmful algal blooms that are a danger to humans, marine/freshwater life and aquaculture.\n",
    "\n",
    "The global picture of ocean ecosystems provided by ocean colour data can guide sustainable marine resource management and support reporting obligations of the European Union's legislation within Marine Strategy Framework Directive and Water Framework Directive, the goal of which is to achieve or maintain Good Environmental Status of the seas by the year 2020\n",
    "\n",
    "* INSERT BRIEF OVERVIEW OF THE SENSOR AND MISSION\n",
    "\n",
    "Further information on the sensor and its data can be found at [http://olci.eumetsat.int](http://olci.eumetsat.int)"
   ]
  },
  {
   "cell_type": "markdown",
   "metadata": {},
   "source": [
    "### Accessing OLCI data\n",
    "\n",
    "There are several options when it comes to downloading Sentinel-3 OLCI data. The options you choose will depend on when the data you are interested in were captured and/or reprocessed. You can find more information about OLCI data access and reprocessing [here](https://www.eumetsat.int/olci-processing-baselines). The access points are described briefly below.\n",
    "\n",
    "* EUMETView ([more info](https://view.eumetsat.int))\n",
    "* Copernicus Online Data Access - CODA ([more info](https://www.eumetsat.int/website/home/Data/DataDelivery/CopernicusOnlineDataAccess/index.html))\n",
    "* EUMETSAT Data Centre ([more info](https://www.eumetsat.int/website/home/Data/DataDelivery/EUMETSATDataCentre/index.html))\n",
    "* Reprocessed data - CODAREP ([more info](https://codarep.eumetsat.int))\n",
    "\n",
    "* WEkEO - A Copernicus Data Information and Access Service coordinated by EUMETSAT, ECMWF, and Mercator Ocean. Through WEkEO you can access a variety of Copernicus data through the Harmonised Data Access API, and a variety of hosted processing resources including a JupyterLab and virtual machines. ([more info](https://wekeo.eu))\n",
    "\n",
    "\n",
    "The next notebook in this tutorial series (<a href=\"./2_OLCI_data_access.ipynb\">2 - Ocean and Land Colour Instrument data access</a>) will show you how to download data from these services, that can be used in the exercise notebooks within this repository. "
   ]
  },
  {
   "cell_type": "markdown",
   "metadata": {},
   "source": [
    "### Exercises\n",
    "\n",
    "These notebooks will walk you through several exercises that will cover :\n",
    "\n",
    " * [Reading OLCI data files, conducting spatial subsetting and application of quality flags](./3_OLCI_spatial_interrogation.ipynb)\n",
    " * [Reading OLCI data files and understanding how the data can be viewed spectrally](./4_OLCI_spectral_interrogation.ipynb)\n",
    " \n",
    "There are also notebooks that cover more complex topics such as :\n",
    "\n",
    " * [Comparison of different chlorophyll-a products from OLCI, derived using different algorithms](./5_OLCI_CHL_comparison.ipynb)  \n",
    " * [Comparison of level 1 and level 2 data and understanding the process of atmospheric correction of OLCI data](./6_OLCI_spectral_AC_L1_L2_comparison.ipynb)\n",
    " * [Outputs of the complex water processor including total suspended matter and absorption of gelbstoff and detritus](./7_OLCI_waterconstituents.ipynb)\n",
    " \n",
    " \n",
    "### Further workflows using OLCI data\n",
    " \n",
    "EUMETSAT has developed further notebooks and Python code tools that will support your use of OLCI data. If you are attending a training course, you may find these repositories as submodules that have been shared with you already, alternatively you can find them on our public gitlab.\n",
    " \n",
    " * Ocean case studies\n",
    " * SNAP ocean workflows \n",
    " \n",
    " Data from OLCI are also used by the Copernicus Marine Environment Monitoring Service (CMEMS). Depending on your application, you may find the downstream data products including data from OLCI (and other ocean colour sensors) fit your needs. If you are attending a training course, you may find the introductory CMEMS exercises in the 'learn-cmems' submodule. Alternativing, it is available on the EUMETSAT public gitlab at the link below.\n",
    " \n",
    " * Learn CMEMS\n",
    " \n"
   ]
  },
  {
   "cell_type": "markdown",
   "metadata": {},
   "source": [
    "<br> <a href=\"/notebooks/00_index.ipynb\"><< Index</a><span style=\"float:right;\"><a href=\"./12_OLCI_spatial_interrogation.ipynb\">12 - Ocean and Land Colour Instrument - spatial interrogation >></a>  <hr> <p style=\"text-align:left;\">This project is licensed under the <a href=\"./LICENSE\">MIT License</a> <span style=\"float:right;\">\n",
    "    \n",
    "<a href=\"https://gitlab.eumetsat.int/eumetlab/ocean\">View on GitLab</a> | <a href=\"https://training.eumetsat.int/\">EUMETSAT Training</a> | <a href=mailto:ops@eumetsat.int>Contact helpdesk for support </a> | <a href=mailto:Copernicus.training@eumetsat.int>Contact our training team to collaborate on and reuse this material</a></span></p>\n",
    "    "
   ]
  },
  {
   "cell_type": "code",
   "execution_count": null,
   "metadata": {},
   "outputs": [],
   "source": []
  }
 ],
 "metadata": {
  "kernelspec": {
   "display_name": "Python 3",
   "language": "python",
   "name": "python3"
  },
  "language_info": {
   "codemirror_mode": {
    "name": "ipython",
    "version": 3
   },
   "file_extension": ".py",
   "mimetype": "text/x-python",
   "name": "python",
   "nbconvert_exporter": "python",
   "pygments_lexer": "ipython3",
   "version": "3.6.12"
  }
 },
 "nbformat": 4,
 "nbformat_minor": 2
}
